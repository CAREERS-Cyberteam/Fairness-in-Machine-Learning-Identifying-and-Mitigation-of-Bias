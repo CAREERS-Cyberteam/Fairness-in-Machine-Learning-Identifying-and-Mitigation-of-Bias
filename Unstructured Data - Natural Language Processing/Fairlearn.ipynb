{
 "cells": [
  {
   "cell_type": "markdown",
   "id": "66ee83a6",
   "metadata": {
    "papermill": {
     "duration": 0.014453,
     "end_time": "2024-04-06T11:32:47.992759",
     "exception": false,
     "start_time": "2024-04-06T11:32:47.978306",
     "status": "completed"
    },
    "tags": []
   },
   "source": [
    "# Import Libraries"
   ]
  },
  {
   "cell_type": "code",
   "execution_count": 1,
   "id": "9cd80b7b",
   "metadata": {
    "execution": {
     "iopub.execute_input": "2024-04-06T11:32:48.014618Z",
     "iopub.status.busy": "2024-04-06T11:32:48.014003Z",
     "iopub.status.idle": "2024-04-06T11:33:14.054642Z",
     "shell.execute_reply": "2024-04-06T11:33:14.053526Z"
    },
    "papermill": {
     "duration": 26.0542,
     "end_time": "2024-04-06T11:33:14.057311",
     "exception": false,
     "start_time": "2024-04-06T11:32:48.003111",
     "status": "completed"
    },
    "tags": []
   },
   "outputs": [
    {
     "name": "stdout",
     "output_type": "stream",
     "text": [
      "\u001b[31mERROR: pip's dependency resolver does not currently take into account all the packages that are installed. This behaviour is the source of the following dependency conflicts.\r\n",
      "tensorflow-decision-forests 1.8.1 requires wurlitzer, which is not installed.\r\n",
      "beatrix-jupyterlab 2023.128.151533 requires jupyterlab~=3.6.0, but you have jupyterlab 4.1.5 which is incompatible.\r\n",
      "libpysal 4.9.2 requires packaging>=22, but you have packaging 21.3 which is incompatible.\r\n",
      "libpysal 4.9.2 requires shapely>=2.0.1, but you have shapely 1.8.5.post1 which is incompatible.\r\n",
      "mizani 0.11.0 requires pandas>=2.1.0, but you have pandas 2.0.3 which is incompatible.\r\n",
      "momepy 0.7.0 requires shapely>=2, but you have shapely 1.8.5.post1 which is incompatible.\r\n",
      "osmnx 1.9.1 requires shapely>=2.0, but you have shapely 1.8.5.post1 which is incompatible.\r\n",
      "plotnine 0.13.2 requires pandas<3.0.0,>=2.1.0, but you have pandas 2.0.3 which is incompatible.\r\n",
      "spopt 0.6.0 requires shapely>=2.0.1, but you have shapely 1.8.5.post1 which is incompatible.\r\n",
      "xarray 2024.2.0 requires packaging>=22, but you have packaging 21.3 which is incompatible.\r\n",
      "ydata-profiling 4.6.4 requires numpy<1.26,>=1.16.0, but you have numpy 1.26.4 which is incompatible.\u001b[0m\u001b[31m\r\n",
      "\u001b[0m"
     ]
    }
   ],
   "source": [
    "!pip install -q fairlearn pandas==2.0.3\n",
    "import numpy as np\n",
    "import pandas as pd\n",
    "import os\n",
    "import matplotlib.pyplot as plt\n",
    "import seaborn as sns\n",
    "from sklearn.preprocessing import LabelEncoder\n",
    "from sklearn.model_selection import train_test_split, StratifiedKFold\n",
    "from sklearn.feature_extraction.text import CountVectorizer, TfidfVectorizer\n",
    "from sklearn.metrics import accuracy_score, f1_score\n",
    "\n",
    "\n",
    "import warnings\n",
    "warnings.simplefilter(action='ignore', category='PerformanceWarning')"
   ]
  },
  {
   "cell_type": "markdown",
   "id": "aa7157b5",
   "metadata": {
    "papermill": {
     "duration": 0.008957,
     "end_time": "2024-04-06T11:33:14.075738",
     "exception": false,
     "start_time": "2024-04-06T11:33:14.066781",
     "status": "completed"
    },
    "tags": []
   },
   "source": [
    "# Prepare Dataset"
   ]
  },
  {
   "cell_type": "code",
   "execution_count": 2,
   "id": "2f571706",
   "metadata": {
    "execution": {
     "iopub.execute_input": "2024-04-06T11:33:14.096140Z",
     "iopub.status.busy": "2024-04-06T11:33:14.095567Z",
     "iopub.status.idle": "2024-04-06T11:33:14.783877Z",
     "shell.execute_reply": "2024-04-06T11:33:14.782700Z"
    },
    "papermill": {
     "duration": 0.70123,
     "end_time": "2024-04-06T11:33:14.786362",
     "exception": false,
     "start_time": "2024-04-06T11:33:14.085132",
     "status": "completed"
    },
    "tags": []
   },
   "outputs": [
    {
     "data": {
      "text/html": [
       "<div>\n",
       "<style scoped>\n",
       "    .dataframe tbody tr th:only-of-type {\n",
       "        vertical-align: middle;\n",
       "    }\n",
       "\n",
       "    .dataframe tbody tr th {\n",
       "        vertical-align: top;\n",
       "    }\n",
       "\n",
       "    .dataframe thead th {\n",
       "        text-align: right;\n",
       "    }\n",
       "</style>\n",
       "<table border=\"1\" class=\"dataframe\">\n",
       "  <thead>\n",
       "    <tr style=\"text-align: right;\">\n",
       "      <th></th>\n",
       "      <th>Findings</th>\n",
       "      <th>Patient Gender</th>\n",
       "      <th>Age Range</th>\n",
       "      <th>Type</th>\n",
       "    </tr>\n",
       "  </thead>\n",
       "  <tbody>\n",
       "    <tr>\n",
       "      <th>0</th>\n",
       "      <td>A male enrollee requested Harvoni 90/400 mg fo...</td>\n",
       "      <td>Male</td>\n",
       "      <td>51-64</td>\n",
       "      <td>1</td>\n",
       "    </tr>\n",
       "    <tr>\n",
       "      <th>1</th>\n",
       "      <td>A 31-year-old male enrollee has requested adul...</td>\n",
       "      <td>Male</td>\n",
       "      <td>31-40</td>\n",
       "      <td>1</td>\n",
       "    </tr>\n",
       "    <tr>\n",
       "      <th>2</th>\n",
       "      <td>A 60-year-old male enrollee has requested Soun...</td>\n",
       "      <td>Male</td>\n",
       "      <td>51-64</td>\n",
       "      <td>0</td>\n",
       "    </tr>\n",
       "    <tr>\n",
       "      <th>3</th>\n",
       "      <td>A 38-year-old male enrollee has requested arti...</td>\n",
       "      <td>Male</td>\n",
       "      <td>31-40</td>\n",
       "      <td>0</td>\n",
       "    </tr>\n",
       "    <tr>\n",
       "      <th>4</th>\n",
       "      <td>The patient is a 53-year-old female with right...</td>\n",
       "      <td>Female</td>\n",
       "      <td>51-64</td>\n",
       "      <td>1</td>\n",
       "    </tr>\n",
       "    <tr>\n",
       "      <th>...</th>\n",
       "      <td>...</td>\n",
       "      <td>...</td>\n",
       "      <td>...</td>\n",
       "      <td>...</td>\n",
       "    </tr>\n",
       "    <tr>\n",
       "      <th>18010</th>\n",
       "      <td>A 59-year-old female enrollee has requested fo...</td>\n",
       "      <td>Female</td>\n",
       "      <td>51-64</td>\n",
       "      <td>1</td>\n",
       "    </tr>\n",
       "    <tr>\n",
       "      <th>18011</th>\n",
       "      <td>A 56-year-old female enrollee has requested co...</td>\n",
       "      <td>Female</td>\n",
       "      <td>51-64</td>\n",
       "      <td>1</td>\n",
       "    </tr>\n",
       "    <tr>\n",
       "      <th>18012</th>\n",
       "      <td>A 57-year-old female enrollee has requested ma...</td>\n",
       "      <td>Female</td>\n",
       "      <td>51-64</td>\n",
       "      <td>1</td>\n",
       "    </tr>\n",
       "    <tr>\n",
       "      <th>18013</th>\n",
       "      <td>Nature of Statutory Criteria/Case Summary:  An...</td>\n",
       "      <td>Male</td>\n",
       "      <td>31-40</td>\n",
       "      <td>1</td>\n",
       "    </tr>\n",
       "    <tr>\n",
       "      <th>18014</th>\n",
       "      <td>Physician 1: This patient is a 55-year-old mal...</td>\n",
       "      <td>Male</td>\n",
       "      <td>51-64</td>\n",
       "      <td>0</td>\n",
       "    </tr>\n",
       "  </tbody>\n",
       "</table>\n",
       "<p>18015 rows × 4 columns</p>\n",
       "</div>"
      ],
      "text/plain": [
       "                                                Findings Patient Gender  \\\n",
       "0      A male enrollee requested Harvoni 90/400 mg fo...           Male   \n",
       "1      A 31-year-old male enrollee has requested adul...           Male   \n",
       "2      A 60-year-old male enrollee has requested Soun...           Male   \n",
       "3      A 38-year-old male enrollee has requested arti...           Male   \n",
       "4      The patient is a 53-year-old female with right...         Female   \n",
       "...                                                  ...            ...   \n",
       "18010  A 59-year-old female enrollee has requested fo...         Female   \n",
       "18011  A 56-year-old female enrollee has requested co...         Female   \n",
       "18012  A 57-year-old female enrollee has requested ma...         Female   \n",
       "18013  Nature of Statutory Criteria/Case Summary:  An...           Male   \n",
       "18014  Physician 1: This patient is a 55-year-old mal...           Male   \n",
       "\n",
       "      Age Range  Type  \n",
       "0         51-64     1  \n",
       "1         31-40     1  \n",
       "2         51-64     0  \n",
       "3         31-40     0  \n",
       "4         51-64     1  \n",
       "...         ...   ...  \n",
       "18010     51-64     1  \n",
       "18011     51-64     1  \n",
       "18012     51-64     1  \n",
       "18013     31-40     1  \n",
       "18014     51-64     0  \n",
       "\n",
       "[18015 rows x 4 columns]"
      ]
     },
     "execution_count": 2,
     "metadata": {},
     "output_type": "execute_result"
    }
   ],
   "source": [
    "train_df = pd.read_csv('/kaggle/input/ca-independent-medical-review/Independent_Medical_Review__IMR__Determinations__Trend.csv')\n",
    "train_df = train_df[['Findings','Patient Gender','Age Range','Type']].dropna().reset_index(drop=True)\n",
    "train_df['Type'] = train_df['Type'].map({'Urgent Care': 1,'Medical Necessity': 1,'Experimental/Investigational': 0})\n",
    "train_df = train_df.sample(frac=1,random_state=42).reset_index(drop=True)\n",
    "train_df"
   ]
  },
  {
   "cell_type": "code",
   "execution_count": 3,
   "id": "f4256841",
   "metadata": {
    "execution": {
     "iopub.execute_input": "2024-04-06T11:33:14.808444Z",
     "iopub.status.busy": "2024-04-06T11:33:14.808034Z",
     "iopub.status.idle": "2024-04-06T11:33:14.822295Z",
     "shell.execute_reply": "2024-04-06T11:33:14.821030Z"
    },
    "papermill": {
     "duration": 0.027349,
     "end_time": "2024-04-06T11:33:14.824447",
     "exception": false,
     "start_time": "2024-04-06T11:33:14.797098",
     "status": "completed"
    },
    "tags": []
   },
   "outputs": [],
   "source": [
    "from sklearn.preprocessing import LabelEncoder\n",
    "feats = ['Patient Gender','Age Range']\n",
    "le = LabelEncoder()\n",
    "for f in feats:\n",
    "    le.fit(train_df[f].values.reshape(-1,))\n",
    "    train_df[f] = le.transform(train_df[f].values.reshape(-1,))"
   ]
  },
  {
   "cell_type": "code",
   "execution_count": 4,
   "id": "6d36008a",
   "metadata": {
    "execution": {
     "iopub.execute_input": "2024-04-06T11:33:14.846070Z",
     "iopub.status.busy": "2024-04-06T11:33:14.845628Z",
     "iopub.status.idle": "2024-04-06T11:33:20.608020Z",
     "shell.execute_reply": "2024-04-06T11:33:20.606855Z"
    },
    "papermill": {
     "duration": 5.775845,
     "end_time": "2024-04-06T11:33:20.610308",
     "exception": false,
     "start_time": "2024-04-06T11:33:14.834463",
     "status": "completed"
    },
    "tags": []
   },
   "outputs": [
    {
     "data": {
      "text/plain": [
       "(18015, 50)"
      ]
     },
     "execution_count": 4,
     "metadata": {},
     "output_type": "execute_result"
    }
   ],
   "source": [
    "CouVec = TfidfVectorizer(stop_words='english',max_features=50)\n",
    "CouVec.fit(train_df['Findings'].values)\n",
    "train_words = pd.DataFrame(CouVec.transform(train_df['Findings']).toarray())\n",
    "train_words.shape"
   ]
  },
  {
   "cell_type": "code",
   "execution_count": 5,
   "id": "6f5eb5d6",
   "metadata": {
    "execution": {
     "iopub.execute_input": "2024-04-06T11:33:20.631716Z",
     "iopub.status.busy": "2024-04-06T11:33:20.631305Z",
     "iopub.status.idle": "2024-04-06T11:33:20.645764Z",
     "shell.execute_reply": "2024-04-06T11:33:20.644586Z"
    },
    "papermill": {
     "duration": 0.028007,
     "end_time": "2024-04-06T11:33:20.648204",
     "exception": false,
     "start_time": "2024-04-06T11:33:20.620197",
     "status": "completed"
    },
    "tags": []
   },
   "outputs": [],
   "source": [
    "train_words = pd.concat([train_df[['Patient Gender','Age Range','Type']],train_words],axis=1).copy()\n",
    "train_df = train_words\n",
    "train_df.columns = train_df.columns.astype(str)"
   ]
  },
  {
   "cell_type": "code",
   "execution_count": 6,
   "id": "73c2e1a5",
   "metadata": {
    "execution": {
     "iopub.execute_input": "2024-04-06T11:33:20.669481Z",
     "iopub.status.busy": "2024-04-06T11:33:20.668802Z",
     "iopub.status.idle": "2024-04-06T11:33:20.675450Z",
     "shell.execute_reply": "2024-04-06T11:33:20.674395Z"
    },
    "papermill": {
     "duration": 0.019626,
     "end_time": "2024-04-06T11:33:20.677692",
     "exception": false,
     "start_time": "2024-04-06T11:33:20.658066",
     "status": "completed"
    },
    "tags": []
   },
   "outputs": [],
   "source": [
    "# DataFrame to store the metrics values\n",
    "metrics_values = pd.DataFrame(columns=['Original','Corr','Expon','Grid','Thres'],index=range(2))"
   ]
  },
  {
   "cell_type": "markdown",
   "id": "fa417243",
   "metadata": {
    "papermill": {
     "duration": 0.00929,
     "end_time": "2024-04-06T11:33:20.696768",
     "exception": false,
     "start_time": "2024-04-06T11:33:20.687478",
     "status": "completed"
    },
    "tags": []
   },
   "source": [
    "# Original Model"
   ]
  },
  {
   "cell_type": "code",
   "execution_count": 7,
   "id": "2d683989",
   "metadata": {
    "execution": {
     "iopub.execute_input": "2024-04-06T11:33:20.717802Z",
     "iopub.status.busy": "2024-04-06T11:33:20.717458Z",
     "iopub.status.idle": "2024-04-06T11:33:20.813769Z",
     "shell.execute_reply": "2024-04-06T11:33:20.812652Z"
    },
    "papermill": {
     "duration": 0.10984,
     "end_time": "2024-04-06T11:33:20.816318",
     "exception": false,
     "start_time": "2024-04-06T11:33:20.706478",
     "status": "completed"
    },
    "tags": []
   },
   "outputs": [],
   "source": [
    "from sklearn.utils.extmath import softmax\n",
    "from sklearn.linear_model import RidgeClassifier\n",
    "\n",
    "class RidgeClassifierwithProba(RidgeClassifier):\n",
    "    def predict_proba(self, X):\n",
    "        d = self.decision_function(X)\n",
    "        d_2d = np.c_[-d, d]\n",
    "        return softmax(d_2d)\n",
    "    \n",
    "model = RidgeClassifierwithProba()"
   ]
  },
  {
   "cell_type": "code",
   "execution_count": 8,
   "id": "9d795226",
   "metadata": {
    "execution": {
     "iopub.execute_input": "2024-04-06T11:33:20.838568Z",
     "iopub.status.busy": "2024-04-06T11:33:20.838144Z",
     "iopub.status.idle": "2024-04-06T11:33:21.108109Z",
     "shell.execute_reply": "2024-04-06T11:33:21.106986Z"
    },
    "papermill": {
     "duration": 0.284343,
     "end_time": "2024-04-06T11:33:21.111058",
     "exception": false,
     "start_time": "2024-04-06T11:33:20.826715",
     "status": "completed"
    },
    "tags": []
   },
   "outputs": [
    {
     "name": "stdout",
     "output_type": "stream",
     "text": [
      "0.9798172124904798\n",
      "0.9830894926847806\n",
      "0.9834064466908259\n",
      "0.9788692175899487\n",
      "0.9817212490479817\n",
      "Mean: 0.9813807237008033 \n",
      "STD:  0.0017827861809340511 \n",
      "\n"
     ]
    }
   ],
   "source": [
    "# CV and OOF Predictions\n",
    "\n",
    "X = train_df.drop('Type',axis=1)\n",
    "y = train_df['Type']\n",
    "\n",
    "y_pred = pd.Series(0,index=X.index)\n",
    "\n",
    "scores = []                   \n",
    "for train_index, test_index in StratifiedKFold(n_splits=5).split(X, y):\n",
    "    X_Train, X_Test = X.iloc[train_index,:], X.iloc[test_index,:]\n",
    "    y_Train, y_Test = y.iloc[train_index], y.iloc[test_index]\n",
    "    \n",
    "    model.fit(X_Train.values,y_Train.values)\n",
    "\n",
    "    preds = model.predict(X_Test.values)\n",
    "    y_pred[test_index] = preds\n",
    "    \n",
    "    scores.append(f1_score(y_Test.values,preds))\n",
    "    print(scores[-1])\n",
    "\n",
    "print(\"Mean:\",np.mean(scores),\"\\nSTD: \", np.std(scores),'\\n')"
   ]
  },
  {
   "cell_type": "markdown",
   "id": "6df9fae5",
   "metadata": {
    "papermill": {
     "duration": 0.015632,
     "end_time": "2024-04-06T11:33:21.143486",
     "exception": false,
     "start_time": "2024-04-06T11:33:21.127854",
     "status": "completed"
    },
    "tags": []
   },
   "source": [
    "# Metrics"
   ]
  },
  {
   "cell_type": "code",
   "execution_count": 9,
   "id": "d0df8d14",
   "metadata": {
    "execution": {
     "iopub.execute_input": "2024-04-06T11:33:21.179295Z",
     "iopub.status.busy": "2024-04-06T11:33:21.178749Z",
     "iopub.status.idle": "2024-04-06T11:33:21.186459Z",
     "shell.execute_reply": "2024-04-06T11:33:21.185328Z"
    },
    "papermill": {
     "duration": 0.028475,
     "end_time": "2024-04-06T11:33:21.189186",
     "exception": false,
     "start_time": "2024-04-06T11:33:21.160711",
     "status": "completed"
    },
    "tags": []
   },
   "outputs": [],
   "source": [
    "def multiclass_selection_rate(y_true, y_pred, desired_class):\n",
    "    \"\"\"Calculate the selection rate for a specific class in a multiclass classification problem.\n",
    "    The selection rate is defined as the fraction of predicted labels that are equal to the desired class.\n",
    "    Args:\n",
    "        y_true : array-like\n",
    "            The true labels.\n",
    "        y_pred : array-like\n",
    "            The predicted labels.\n",
    "        desired_class : any\n",
    "            The class for which to calculate the selection rate.\n",
    "    Returns:\n",
    "        float\n",
    "            The selection rate for the desired class.\n",
    "    \"\"\"\n",
    "    selected = (y_pred == desired_class).sum()\n",
    "    total = y_pred.shape[0]\n",
    "    return selected / total"
   ]
  },
  {
   "cell_type": "code",
   "execution_count": 10,
   "id": "f6ecdd87",
   "metadata": {
    "execution": {
     "iopub.execute_input": "2024-04-06T11:33:21.223842Z",
     "iopub.status.busy": "2024-04-06T11:33:21.222875Z",
     "iopub.status.idle": "2024-04-06T11:33:21.237626Z",
     "shell.execute_reply": "2024-04-06T11:33:21.236814Z"
    },
    "papermill": {
     "duration": 0.034186,
     "end_time": "2024-04-06T11:33:21.240077",
     "exception": false,
     "start_time": "2024-04-06T11:33:21.205891",
     "status": "completed"
    },
    "tags": []
   },
   "outputs": [],
   "source": [
    "from fairlearn.metrics import MetricFrame, selection_rate, equalized_odds_ratio\n",
    "from sklearn.metrics import accuracy_score, precision_score, recall_score, roc_auc_score\n",
    "import pandas as pd\n",
    "\n",
    "metrics = {\n",
    "    'accuracy': lambda y_true, y_pred: accuracy_score(y_true, y_pred),\n",
    "    'selection_rate': lambda y_true, y_pred: multiclass_selection_rate(y_true, y_pred,1),\n",
    "    'count': lambda y_true, y_pred: len(y_true),\n",
    "}"
   ]
  },
  {
   "cell_type": "markdown",
   "id": "e170123b",
   "metadata": {
    "papermill": {
     "duration": 0.009271,
     "end_time": "2024-04-06T11:33:21.259359",
     "exception": false,
     "start_time": "2024-04-06T11:33:21.250088",
     "status": "completed"
    },
    "tags": []
   },
   "source": [
    "### Table for Gender"
   ]
  },
  {
   "cell_type": "markdown",
   "id": "bc7a66f6",
   "metadata": {
    "papermill": {
     "duration": 0.00931,
     "end_time": "2024-04-06T11:33:21.278829",
     "exception": false,
     "start_time": "2024-04-06T11:33:21.269519",
     "status": "completed"
    },
    "tags": []
   },
   "source": [
    "#### Gender: {0: Female , 1: Male}\n",
    "#### Ethnicity: {0: Asian , 1: Black , 2: Indian , 3: Others , 4: White}"
   ]
  },
  {
   "cell_type": "code",
   "execution_count": 11,
   "id": "66356e40",
   "metadata": {
    "execution": {
     "iopub.execute_input": "2024-04-06T11:33:21.299868Z",
     "iopub.status.busy": "2024-04-06T11:33:21.299483Z",
     "iopub.status.idle": "2024-04-06T11:33:21.444740Z",
     "shell.execute_reply": "2024-04-06T11:33:21.443643Z"
    },
    "papermill": {
     "duration": 0.158357,
     "end_time": "2024-04-06T11:33:21.446981",
     "exception": false,
     "start_time": "2024-04-06T11:33:21.288624",
     "status": "completed"
    },
    "tags": []
   },
   "outputs": [
    {
     "data": {
      "text/html": [
       "<div>\n",
       "<style scoped>\n",
       "    .dataframe tbody tr th:only-of-type {\n",
       "        vertical-align: middle;\n",
       "    }\n",
       "\n",
       "    .dataframe tbody tr th {\n",
       "        vertical-align: top;\n",
       "    }\n",
       "\n",
       "    .dataframe thead th {\n",
       "        text-align: right;\n",
       "    }\n",
       "</style>\n",
       "<table border=\"1\" class=\"dataframe\">\n",
       "  <thead>\n",
       "    <tr style=\"text-align: right;\">\n",
       "      <th></th>\n",
       "      <th>accuracy</th>\n",
       "      <th>selection_rate</th>\n",
       "      <th>count</th>\n",
       "    </tr>\n",
       "    <tr>\n",
       "      <th>Patient Gender</th>\n",
       "      <th></th>\n",
       "      <th></th>\n",
       "      <th></th>\n",
       "    </tr>\n",
       "  </thead>\n",
       "  <tbody>\n",
       "    <tr>\n",
       "      <th>0</th>\n",
       "      <td>0.973332</td>\n",
       "      <td>0.714932</td>\n",
       "      <td>10387.0</td>\n",
       "    </tr>\n",
       "    <tr>\n",
       "      <th>1</th>\n",
       "      <td>0.972208</td>\n",
       "      <td>0.747902</td>\n",
       "      <td>7628.0</td>\n",
       "    </tr>\n",
       "  </tbody>\n",
       "</table>\n",
       "</div>"
      ],
      "text/plain": [
       "                accuracy  selection_rate    count\n",
       "Patient Gender                                   \n",
       "0               0.973332        0.714932  10387.0\n",
       "1               0.972208        0.747902   7628.0"
      ]
     },
     "execution_count": 11,
     "metadata": {},
     "output_type": "execute_result"
    }
   ],
   "source": [
    "# Create a MetricFrame object\n",
    "mf = MetricFrame(metrics=metrics, y_true=y, y_pred=y_pred, sensitive_features=X[['Patient Gender']])\n",
    "\n",
    "# Compute the metrics for each group defined by the sensitive features\n",
    "results = {}\n",
    "for metric_name in metrics.keys():\n",
    "        results[metric_name] = mf.by_group[metric_name]\n",
    "\n",
    "# Convert the results to a DataFrame\n",
    "results_df = pd.DataFrame(results)\n",
    "\n",
    "# Display the results\n",
    "results_df\n"
   ]
  },
  {
   "cell_type": "markdown",
   "id": "d1257ae9",
   "metadata": {
    "papermill": {
     "duration": 0.009489,
     "end_time": "2024-04-06T11:33:21.466332",
     "exception": false,
     "start_time": "2024-04-06T11:33:21.456843",
     "status": "completed"
    },
    "tags": []
   },
   "source": [
    "### Table for Ethnicity"
   ]
  },
  {
   "cell_type": "code",
   "execution_count": 12,
   "id": "64f1cf11",
   "metadata": {
    "execution": {
     "iopub.execute_input": "2024-04-06T11:33:21.488223Z",
     "iopub.status.busy": "2024-04-06T11:33:21.487499Z",
     "iopub.status.idle": "2024-04-06T11:33:21.635930Z",
     "shell.execute_reply": "2024-04-06T11:33:21.634714Z"
    },
    "papermill": {
     "duration": 0.162782,
     "end_time": "2024-04-06T11:33:21.639001",
     "exception": false,
     "start_time": "2024-04-06T11:33:21.476219",
     "status": "completed"
    },
    "tags": []
   },
   "outputs": [
    {
     "data": {
      "text/html": [
       "<div>\n",
       "<style scoped>\n",
       "    .dataframe tbody tr th:only-of-type {\n",
       "        vertical-align: middle;\n",
       "    }\n",
       "\n",
       "    .dataframe tbody tr th {\n",
       "        vertical-align: top;\n",
       "    }\n",
       "\n",
       "    .dataframe thead th {\n",
       "        text-align: right;\n",
       "    }\n",
       "</style>\n",
       "<table border=\"1\" class=\"dataframe\">\n",
       "  <thead>\n",
       "    <tr style=\"text-align: right;\">\n",
       "      <th></th>\n",
       "      <th>accuracy</th>\n",
       "      <th>selection_rate</th>\n",
       "      <th>count</th>\n",
       "    </tr>\n",
       "    <tr>\n",
       "      <th>Age Range</th>\n",
       "      <th></th>\n",
       "      <th></th>\n",
       "      <th></th>\n",
       "    </tr>\n",
       "  </thead>\n",
       "  <tbody>\n",
       "    <tr>\n",
       "      <th>0</th>\n",
       "      <td>0.987578</td>\n",
       "      <td>0.906268</td>\n",
       "      <td>1771.0</td>\n",
       "    </tr>\n",
       "    <tr>\n",
       "      <th>1</th>\n",
       "      <td>0.987248</td>\n",
       "      <td>0.883103</td>\n",
       "      <td>1882.0</td>\n",
       "    </tr>\n",
       "    <tr>\n",
       "      <th>2</th>\n",
       "      <td>0.984160</td>\n",
       "      <td>0.782369</td>\n",
       "      <td>1452.0</td>\n",
       "    </tr>\n",
       "    <tr>\n",
       "      <th>3</th>\n",
       "      <td>0.978324</td>\n",
       "      <td>0.746146</td>\n",
       "      <td>2076.0</td>\n",
       "    </tr>\n",
       "    <tr>\n",
       "      <th>4</th>\n",
       "      <td>0.969043</td>\n",
       "      <td>0.685317</td>\n",
       "      <td>3521.0</td>\n",
       "    </tr>\n",
       "    <tr>\n",
       "      <th>5</th>\n",
       "      <td>0.963675</td>\n",
       "      <td>0.652641</td>\n",
       "      <td>6607.0</td>\n",
       "    </tr>\n",
       "    <tr>\n",
       "      <th>6</th>\n",
       "      <td>0.963173</td>\n",
       "      <td>0.643059</td>\n",
       "      <td>706.0</td>\n",
       "    </tr>\n",
       "  </tbody>\n",
       "</table>\n",
       "</div>"
      ],
      "text/plain": [
       "           accuracy  selection_rate   count\n",
       "Age Range                                  \n",
       "0          0.987578        0.906268  1771.0\n",
       "1          0.987248        0.883103  1882.0\n",
       "2          0.984160        0.782369  1452.0\n",
       "3          0.978324        0.746146  2076.0\n",
       "4          0.969043        0.685317  3521.0\n",
       "5          0.963675        0.652641  6607.0\n",
       "6          0.963173        0.643059   706.0"
      ]
     },
     "execution_count": 12,
     "metadata": {},
     "output_type": "execute_result"
    }
   ],
   "source": [
    "# Create a MetricFrame object\n",
    "mf = MetricFrame(metrics=metrics, y_true=y, y_pred=y_pred, sensitive_features=X[['Age Range']])\n",
    "\n",
    "# Compute the metrics for each group defined by the sensitive features\n",
    "results = {}\n",
    "for metric_name in metrics.keys():\n",
    "        results[metric_name] = mf.by_group[metric_name]\n",
    "\n",
    "# Convert the results to a DataFrame\n",
    "results_df = pd.DataFrame(results)\n",
    "\n",
    "# Display the results\n",
    "results_df"
   ]
  },
  {
   "cell_type": "markdown",
   "id": "2e0fbc12",
   "metadata": {
    "papermill": {
     "duration": 0.009728,
     "end_time": "2024-04-06T11:33:21.658880",
     "exception": false,
     "start_time": "2024-04-06T11:33:21.649152",
     "status": "completed"
    },
    "tags": []
   },
   "source": [
    "### Table for Gender and Ethnicity"
   ]
  },
  {
   "cell_type": "code",
   "execution_count": 13,
   "id": "f58e20ef",
   "metadata": {
    "execution": {
     "iopub.execute_input": "2024-04-06T11:33:21.682457Z",
     "iopub.status.busy": "2024-04-06T11:33:21.680697Z",
     "iopub.status.idle": "2024-04-06T11:33:21.853409Z",
     "shell.execute_reply": "2024-04-06T11:33:21.852377Z"
    },
    "papermill": {
     "duration": 0.186641,
     "end_time": "2024-04-06T11:33:21.855783",
     "exception": false,
     "start_time": "2024-04-06T11:33:21.669142",
     "status": "completed"
    },
    "tags": []
   },
   "outputs": [
    {
     "data": {
      "text/html": [
       "<div>\n",
       "<style scoped>\n",
       "    .dataframe tbody tr th:only-of-type {\n",
       "        vertical-align: middle;\n",
       "    }\n",
       "\n",
       "    .dataframe tbody tr th {\n",
       "        vertical-align: top;\n",
       "    }\n",
       "\n",
       "    .dataframe thead th {\n",
       "        text-align: right;\n",
       "    }\n",
       "</style>\n",
       "<table border=\"1\" class=\"dataframe\">\n",
       "  <thead>\n",
       "    <tr style=\"text-align: right;\">\n",
       "      <th></th>\n",
       "      <th></th>\n",
       "      <th>accuracy</th>\n",
       "      <th>selection_rate</th>\n",
       "      <th>count</th>\n",
       "    </tr>\n",
       "    <tr>\n",
       "      <th>Patient Gender</th>\n",
       "      <th>Age Range</th>\n",
       "      <th></th>\n",
       "      <th></th>\n",
       "      <th></th>\n",
       "    </tr>\n",
       "  </thead>\n",
       "  <tbody>\n",
       "    <tr>\n",
       "      <th rowspan=\"7\" valign=\"top\">0</th>\n",
       "      <th>0</th>\n",
       "      <td>0.978836</td>\n",
       "      <td>0.890653</td>\n",
       "      <td>567.0</td>\n",
       "    </tr>\n",
       "    <tr>\n",
       "      <th>1</th>\n",
       "      <td>0.990132</td>\n",
       "      <td>0.883772</td>\n",
       "      <td>912.0</td>\n",
       "    </tr>\n",
       "    <tr>\n",
       "      <th>2</th>\n",
       "      <td>0.991071</td>\n",
       "      <td>0.780134</td>\n",
       "      <td>896.0</td>\n",
       "    </tr>\n",
       "    <tr>\n",
       "      <th>3</th>\n",
       "      <td>0.980309</td>\n",
       "      <td>0.743319</td>\n",
       "      <td>1422.0</td>\n",
       "    </tr>\n",
       "    <tr>\n",
       "      <th>4</th>\n",
       "      <td>0.968261</td>\n",
       "      <td>0.685652</td>\n",
       "      <td>2300.0</td>\n",
       "    </tr>\n",
       "    <tr>\n",
       "      <th>5</th>\n",
       "      <td>0.965700</td>\n",
       "      <td>0.649180</td>\n",
       "      <td>3965.0</td>\n",
       "    </tr>\n",
       "    <tr>\n",
       "      <th>6</th>\n",
       "      <td>0.966154</td>\n",
       "      <td>0.640000</td>\n",
       "      <td>325.0</td>\n",
       "    </tr>\n",
       "    <tr>\n",
       "      <th rowspan=\"7\" valign=\"top\">1</th>\n",
       "      <th>0</th>\n",
       "      <td>0.991694</td>\n",
       "      <td>0.913621</td>\n",
       "      <td>1204.0</td>\n",
       "    </tr>\n",
       "    <tr>\n",
       "      <th>1</th>\n",
       "      <td>0.984536</td>\n",
       "      <td>0.882474</td>\n",
       "      <td>970.0</td>\n",
       "    </tr>\n",
       "    <tr>\n",
       "      <th>2</th>\n",
       "      <td>0.973022</td>\n",
       "      <td>0.785971</td>\n",
       "      <td>556.0</td>\n",
       "    </tr>\n",
       "    <tr>\n",
       "      <th>3</th>\n",
       "      <td>0.974006</td>\n",
       "      <td>0.752294</td>\n",
       "      <td>654.0</td>\n",
       "    </tr>\n",
       "    <tr>\n",
       "      <th>4</th>\n",
       "      <td>0.970516</td>\n",
       "      <td>0.684685</td>\n",
       "      <td>1221.0</td>\n",
       "    </tr>\n",
       "    <tr>\n",
       "      <th>5</th>\n",
       "      <td>0.960636</td>\n",
       "      <td>0.657835</td>\n",
       "      <td>2642.0</td>\n",
       "    </tr>\n",
       "    <tr>\n",
       "      <th>6</th>\n",
       "      <td>0.960630</td>\n",
       "      <td>0.645669</td>\n",
       "      <td>381.0</td>\n",
       "    </tr>\n",
       "  </tbody>\n",
       "</table>\n",
       "</div>"
      ],
      "text/plain": [
       "                          accuracy  selection_rate   count\n",
       "Patient Gender Age Range                                  \n",
       "0              0          0.978836        0.890653   567.0\n",
       "               1          0.990132        0.883772   912.0\n",
       "               2          0.991071        0.780134   896.0\n",
       "               3          0.980309        0.743319  1422.0\n",
       "               4          0.968261        0.685652  2300.0\n",
       "               5          0.965700        0.649180  3965.0\n",
       "               6          0.966154        0.640000   325.0\n",
       "1              0          0.991694        0.913621  1204.0\n",
       "               1          0.984536        0.882474   970.0\n",
       "               2          0.973022        0.785971   556.0\n",
       "               3          0.974006        0.752294   654.0\n",
       "               4          0.970516        0.684685  1221.0\n",
       "               5          0.960636        0.657835  2642.0\n",
       "               6          0.960630        0.645669   381.0"
      ]
     },
     "execution_count": 13,
     "metadata": {},
     "output_type": "execute_result"
    }
   ],
   "source": [
    "# Create a MetricFrame object\n",
    "mf = MetricFrame(metrics=metrics, y_true=y, y_pred=y_pred, sensitive_features=X[['Patient Gender','Age Range']])\n",
    "\n",
    "# Compute the metrics for each group defined by the sensitive features\n",
    "results = {}\n",
    "for metric_name in metrics.keys():\n",
    "        results[metric_name] = mf.by_group[metric_name]\n",
    "\n",
    "# Convert the results to a DataFrame\n",
    "results_df = pd.DataFrame(results)\n",
    "\n",
    "# Display the results\n",
    "results_df"
   ]
  },
  {
   "cell_type": "markdown",
   "id": "9386a020",
   "metadata": {
    "papermill": {
     "duration": 0.010079,
     "end_time": "2024-04-06T11:33:21.876425",
     "exception": false,
     "start_time": "2024-04-06T11:33:21.866346",
     "status": "completed"
    },
    "tags": []
   },
   "source": [
    "### Demographic Parity & Equalized Odds"
   ]
  },
  {
   "cell_type": "code",
   "execution_count": 14,
   "id": "4087fca7",
   "metadata": {
    "execution": {
     "iopub.execute_input": "2024-04-06T11:33:21.898970Z",
     "iopub.status.busy": "2024-04-06T11:33:21.898559Z",
     "iopub.status.idle": "2024-04-06T11:33:22.245636Z",
     "shell.execute_reply": "2024-04-06T11:33:22.244377Z"
    },
    "papermill": {
     "duration": 0.36143,
     "end_time": "2024-04-06T11:33:22.248232",
     "exception": false,
     "start_time": "2024-04-06T11:33:21.886802",
     "status": "completed"
    },
    "tags": []
   },
   "outputs": [],
   "source": [
    "from fairlearn.metrics import demographic_parity_difference, equalized_odds_difference\n",
    "metrics_values.loc[0,'Original'] = demographic_parity_difference(y,y_pred,sensitive_features=X[['Patient Gender','Age Range']])\n",
    "metrics_values.loc[1,'Original'] = equalized_odds_difference(y,y_pred,sensitive_features=X[['Patient Gender','Age Range']])"
   ]
  },
  {
   "cell_type": "markdown",
   "id": "cc3840f0",
   "metadata": {
    "papermill": {
     "duration": 0.010082,
     "end_time": "2024-04-06T11:33:22.268925",
     "exception": false,
     "start_time": "2024-04-06T11:33:22.258843",
     "status": "completed"
    },
    "tags": []
   },
   "source": [
    "# Mitigation Algorithms"
   ]
  },
  {
   "cell_type": "markdown",
   "id": "4eee1645",
   "metadata": {
    "papermill": {
     "duration": 0.010163,
     "end_time": "2024-04-06T11:33:22.290023",
     "exception": false,
     "start_time": "2024-04-06T11:33:22.279860",
     "status": "completed"
    },
    "tags": []
   },
   "source": [
    "# Preprocessing Algorithms:"
   ]
  },
  {
   "cell_type": "code",
   "execution_count": 15,
   "id": "06566053",
   "metadata": {
    "execution": {
     "iopub.execute_input": "2024-04-06T11:33:22.315227Z",
     "iopub.status.busy": "2024-04-06T11:33:22.314018Z",
     "iopub.status.idle": "2024-04-06T11:33:22.879029Z",
     "shell.execute_reply": "2024-04-06T11:33:22.877822Z"
    },
    "papermill": {
     "duration": 0.582252,
     "end_time": "2024-04-06T11:33:22.882705",
     "exception": false,
     "start_time": "2024-04-06T11:33:22.300453",
     "status": "completed"
    },
    "tags": []
   },
   "outputs": [
    {
     "name": "stdout",
     "output_type": "stream",
     "text": [
      "0.976673620329983\n",
      "0.9772813328284741\n",
      "0.9770616113744076\n",
      "0.9742228961334344\n",
      "0.9775835866261399\n",
      "Mean: 0.9765646094584877 \n",
      "STD:  0.0012078511852497017 \n",
      "\n"
     ]
    }
   ],
   "source": [
    "from fairlearn.preprocessing import CorrelationRemover\n",
    "\n",
    "X = train_df.drop('Type',axis=1)\n",
    "y = train_df['Type']\n",
    "\n",
    "y_pred_1 = pd.Series(0,index=X.index)\n",
    "\n",
    "scores = []                   \n",
    "for train_index, test_index in StratifiedKFold(n_splits=5).split(X.values, y.values):\n",
    "    X_Train, X_Test = X.iloc[train_index,:], X.iloc[test_index,:]\n",
    "    y_Train, y_Test = y.iloc[train_index], y.iloc[test_index]\n",
    "    \n",
    "    corr_remover = CorrelationRemover(sensitive_feature_ids=['Patient Gender','Age Range'])\n",
    "    corr_remover.fit(X_Train)\n",
    "    X_Train = corr_remover.transform(X_Train)\n",
    "    X_Test = corr_remover.transform(X_Test)\n",
    "\n",
    "    model.fit(X_Train,y_Train)\n",
    "\n",
    "    preds = model.predict(X_Test)\n",
    "    y_pred_1[test_index] = preds\n",
    "    \n",
    "    scores.append(f1_score(y_Test.values,preds))\n",
    "    print(scores[-1])\n",
    "\n",
    "print(\"Mean:\",np.mean(scores),\"\\nSTD: \", np.std(scores),'\\n')"
   ]
  },
  {
   "cell_type": "code",
   "execution_count": 16,
   "id": "62f57333",
   "metadata": {
    "execution": {
     "iopub.execute_input": "2024-04-06T11:33:22.922697Z",
     "iopub.status.busy": "2024-04-06T11:33:22.922169Z",
     "iopub.status.idle": "2024-04-06T11:33:22.952975Z",
     "shell.execute_reply": "2024-04-06T11:33:22.951680Z"
    },
    "papermill": {
     "duration": 0.054314,
     "end_time": "2024-04-06T11:33:22.956804",
     "exception": false,
     "start_time": "2024-04-06T11:33:22.902490",
     "status": "completed"
    },
    "tags": []
   },
   "outputs": [],
   "source": [
    "y_pred_1.to_csv('y_pred_Corr.csv',index=False)"
   ]
  },
  {
   "cell_type": "markdown",
   "id": "7613c8e0",
   "metadata": {
    "papermill": {
     "duration": 0.015179,
     "end_time": "2024-04-06T11:33:22.991066",
     "exception": false,
     "start_time": "2024-04-06T11:33:22.975887",
     "status": "completed"
    },
    "tags": []
   },
   "source": [
    "#### Demographic Parity and Equalized Odds:"
   ]
  },
  {
   "cell_type": "code",
   "execution_count": 17,
   "id": "88e6f58d",
   "metadata": {
    "execution": {
     "iopub.execute_input": "2024-04-06T11:33:23.013791Z",
     "iopub.status.busy": "2024-04-06T11:33:23.013329Z",
     "iopub.status.idle": "2024-04-06T11:33:23.358293Z",
     "shell.execute_reply": "2024-04-06T11:33:23.356882Z"
    },
    "papermill": {
     "duration": 0.359479,
     "end_time": "2024-04-06T11:33:23.361259",
     "exception": false,
     "start_time": "2024-04-06T11:33:23.001780",
     "status": "completed"
    },
    "tags": []
   },
   "outputs": [],
   "source": [
    "from fairlearn.metrics import demographic_parity_difference, equalized_odds_difference\n",
    "metrics_values.loc[0,'Corr'] = demographic_parity_difference(y,y_pred_1,sensitive_features=X[['Patient Gender','Age Range']])\n",
    "metrics_values.loc[1,'Corr'] = equalized_odds_difference(y,y_pred_1,sensitive_features=X[['Patient Gender','Age Range']])"
   ]
  },
  {
   "cell_type": "markdown",
   "id": "3fc97dcb",
   "metadata": {
    "papermill": {
     "duration": 0.010184,
     "end_time": "2024-04-06T11:33:23.382118",
     "exception": false,
     "start_time": "2024-04-06T11:33:23.371934",
     "status": "completed"
    },
    "tags": []
   },
   "source": [
    "# In-processing Algorithms:"
   ]
  },
  {
   "cell_type": "markdown",
   "id": "04821ff1",
   "metadata": {
    "papermill": {
     "duration": 0.010354,
     "end_time": "2024-04-06T11:33:23.403685",
     "exception": false,
     "start_time": "2024-04-06T11:33:23.393331",
     "status": "completed"
    },
    "tags": []
   },
   "source": [
    "#### Exponentiated Gradient"
   ]
  },
  {
   "cell_type": "code",
   "execution_count": 18,
   "id": "2f1cba18",
   "metadata": {
    "execution": {
     "iopub.execute_input": "2024-04-06T11:33:23.426456Z",
     "iopub.status.busy": "2024-04-06T11:33:23.426062Z",
     "iopub.status.idle": "2024-04-06T11:33:57.752885Z",
     "shell.execute_reply": "2024-04-06T11:33:57.742807Z"
    },
    "papermill": {
     "duration": 34.353636,
     "end_time": "2024-04-06T11:33:57.767952",
     "exception": false,
     "start_time": "2024-04-06T11:33:23.414316",
     "status": "completed"
    },
    "tags": []
   },
   "outputs": [
    {
     "name": "stdout",
     "output_type": "stream",
     "text": [
      "0.9599849708810821\n",
      "0.9492481203007519\n",
      "0.956952380952381\n",
      "0.952865761689291\n",
      "0.9552405818724357\n",
      "Mean: 0.9548583631391884 \n",
      "STD:  0.003640285536757221 \n",
      "\n"
     ]
    }
   ],
   "source": [
    "from fairlearn.reductions import ExponentiatedGradient, DemographicParity, EqualizedOdds\n",
    "\n",
    "X = train_df.drop('Type',axis=1)\n",
    "y = train_df['Type']\n",
    "\n",
    "y_pred_2 = pd.Series(0,index=X.index)\n",
    "\n",
    "scores = []                   \n",
    "for train_index, test_index in StratifiedKFold(n_splits=5).split(X.values, y.values):\n",
    "    X_Train, X_Test = X.iloc[train_index,:], X.iloc[test_index,:]\n",
    "    y_Train, y_Test = y.iloc[train_index], y.iloc[test_index]\n",
    "    \n",
    "    expgrad = ExponentiatedGradient(model, constraints=EqualizedOdds(), max_iter=50)\n",
    "    expgrad.fit(X_Train,y_Train,sensitive_features=X_Train[['Patient Gender','Age Range']])\n",
    "\n",
    "    preds = expgrad.predict(X_Test)\n",
    "    y_pred_2[test_index] = preds\n",
    "    \n",
    "    scores.append(f1_score(y_Test.values,preds))\n",
    "    print(scores[-1])\n",
    "\n",
    "print(\"Mean:\",np.mean(scores),\"\\nSTD: \", np.std(scores),'\\n')"
   ]
  },
  {
   "cell_type": "code",
   "execution_count": 19,
   "id": "9ba47880",
   "metadata": {
    "execution": {
     "iopub.execute_input": "2024-04-06T11:33:57.809120Z",
     "iopub.status.busy": "2024-04-06T11:33:57.807647Z",
     "iopub.status.idle": "2024-04-06T11:33:57.837836Z",
     "shell.execute_reply": "2024-04-06T11:33:57.836650Z"
    },
    "papermill": {
     "duration": 0.054388,
     "end_time": "2024-04-06T11:33:57.841548",
     "exception": false,
     "start_time": "2024-04-06T11:33:57.787160",
     "status": "completed"
    },
    "tags": []
   },
   "outputs": [],
   "source": [
    "y_pred_2.to_csv('y_pred_expGrad.csv',index=False)"
   ]
  },
  {
   "cell_type": "code",
   "execution_count": 20,
   "id": "065f5825",
   "metadata": {
    "execution": {
     "iopub.execute_input": "2024-04-06T11:33:57.870997Z",
     "iopub.status.busy": "2024-04-06T11:33:57.870583Z",
     "iopub.status.idle": "2024-04-06T11:33:58.212107Z",
     "shell.execute_reply": "2024-04-06T11:33:58.210820Z"
    },
    "papermill": {
     "duration": 0.356126,
     "end_time": "2024-04-06T11:33:58.214641",
     "exception": false,
     "start_time": "2024-04-06T11:33:57.858515",
     "status": "completed"
    },
    "tags": []
   },
   "outputs": [],
   "source": [
    "from fairlearn.metrics import demographic_parity_difference, equalized_odds_difference\n",
    "metrics_values.loc[0,'Expon'] = demographic_parity_difference(y,y_pred_2,sensitive_features=X[['Patient Gender','Age Range']])\n",
    "metrics_values.loc[1,'Expon'] = equalized_odds_difference(y,y_pred_2,sensitive_features=X[['Patient Gender','Age Range']])"
   ]
  },
  {
   "cell_type": "markdown",
   "id": "f4e3ee07",
   "metadata": {
    "papermill": {
     "duration": 0.01052,
     "end_time": "2024-04-06T11:33:58.236109",
     "exception": false,
     "start_time": "2024-04-06T11:33:58.225589",
     "status": "completed"
    },
    "tags": []
   },
   "source": [
    "#### Grid Search"
   ]
  },
  {
   "cell_type": "code",
   "execution_count": 21,
   "id": "2ec9f54e",
   "metadata": {
    "execution": {
     "iopub.execute_input": "2024-04-06T11:33:58.316652Z",
     "iopub.status.busy": "2024-04-06T11:33:58.316269Z",
     "iopub.status.idle": "2024-04-06T11:34:30.734522Z",
     "shell.execute_reply": "2024-04-06T11:34:30.733349Z"
    },
    "papermill": {
     "duration": 32.453741,
     "end_time": "2024-04-06T11:34:30.757915",
     "exception": false,
     "start_time": "2024-04-06T11:33:58.304174",
     "status": "completed"
    },
    "tags": []
   },
   "outputs": [
    {
     "name": "stdout",
     "output_type": "stream",
     "text": [
      "0.9116877891772279\n",
      "0.9040985261457702\n",
      "0.9104\n",
      "0.8983050847457628\n",
      "0.9125125125125126\n",
      "Mean: 0.9074007825162548 \n",
      "STD:  0.005424760460134855 \n",
      "\n"
     ]
    }
   ],
   "source": [
    "from fairlearn.reductions import DemographicParity, GridSearch, EqualizedOdds\n",
    "\n",
    "X = train_df.drop('Type',axis=1)\n",
    "y = train_df['Type']\n",
    "\n",
    "y_pred_3 = pd.Series(0,index=X.index)\n",
    "\n",
    "scores = []                   \n",
    "for train_index, test_index in StratifiedKFold(n_splits=5).split(X.values, y.values):\n",
    "    X_Train, X_Test = X.iloc[train_index,:], X.iloc[test_index,:]\n",
    "    y_Train, y_Test = y.iloc[train_index], y.iloc[test_index]\n",
    "    \n",
    "    grid = GridSearch(model, constraints=DemographicParity(),grid_size=100)\n",
    "    grid.fit(X_Train,y_Train,sensitive_features=X_Train[['Patient Gender','Age Range']])\n",
    "\n",
    "    preds = grid.predict(X_Test)\n",
    "    y_pred_3[test_index] = preds\n",
    "    \n",
    "    scores.append(f1_score(y_Test.values,preds))\n",
    "    print(scores[-1])\n",
    "\n",
    "print(\"Mean:\",np.mean(scores),\"\\nSTD: \", np.std(scores),'\\n')"
   ]
  },
  {
   "cell_type": "markdown",
   "id": "d06553b2",
   "metadata": {
    "papermill": {
     "duration": 0.018738,
     "end_time": "2024-04-06T11:34:30.796523",
     "exception": false,
     "start_time": "2024-04-06T11:34:30.777785",
     "status": "completed"
    },
    "tags": []
   },
   "source": [
    "### NOTE: It gave good results with high grid_size values"
   ]
  },
  {
   "cell_type": "code",
   "execution_count": 22,
   "id": "76f8fb20",
   "metadata": {
    "execution": {
     "iopub.execute_input": "2024-04-06T11:34:30.836865Z",
     "iopub.status.busy": "2024-04-06T11:34:30.836311Z",
     "iopub.status.idle": "2024-04-06T11:34:30.855351Z",
     "shell.execute_reply": "2024-04-06T11:34:30.854482Z"
    },
    "papermill": {
     "duration": 0.04183,
     "end_time": "2024-04-06T11:34:30.857576",
     "exception": false,
     "start_time": "2024-04-06T11:34:30.815746",
     "status": "completed"
    },
    "tags": []
   },
   "outputs": [],
   "source": [
    "y_pred_3.to_csv('y_pred_gridsearch.csv',index=False)"
   ]
  },
  {
   "cell_type": "code",
   "execution_count": 23,
   "id": "cd81b539",
   "metadata": {
    "execution": {
     "iopub.execute_input": "2024-04-06T11:34:30.882487Z",
     "iopub.status.busy": "2024-04-06T11:34:30.881740Z",
     "iopub.status.idle": "2024-04-06T11:34:31.221122Z",
     "shell.execute_reply": "2024-04-06T11:34:31.220023Z"
    },
    "papermill": {
     "duration": 0.354605,
     "end_time": "2024-04-06T11:34:31.223695",
     "exception": false,
     "start_time": "2024-04-06T11:34:30.869090",
     "status": "completed"
    },
    "tags": []
   },
   "outputs": [],
   "source": [
    "from fairlearn.metrics import demographic_parity_difference, equalized_odds_difference\n",
    "metrics_values.loc[0,'Grid'] = demographic_parity_difference(y,y_pred_3,sensitive_features=X[['Patient Gender','Age Range']])\n",
    "metrics_values.loc[1,'Grid'] = equalized_odds_difference(y,y_pred_3,sensitive_features=X[['Patient Gender','Age Range']])"
   ]
  },
  {
   "cell_type": "markdown",
   "id": "49ea834a",
   "metadata": {
    "papermill": {
     "duration": 0.01097,
     "end_time": "2024-04-06T11:34:31.246133",
     "exception": false,
     "start_time": "2024-04-06T11:34:31.235163",
     "status": "completed"
    },
    "tags": []
   },
   "source": [
    "# Postprocessing Algorithms:"
   ]
  },
  {
   "cell_type": "code",
   "execution_count": 24,
   "id": "a56ccab1",
   "metadata": {
    "execution": {
     "iopub.execute_input": "2024-04-06T11:34:31.270344Z",
     "iopub.status.busy": "2024-04-06T11:34:31.269944Z",
     "iopub.status.idle": "2024-04-06T11:34:39.768987Z",
     "shell.execute_reply": "2024-04-06T11:34:39.767832Z"
    },
    "papermill": {
     "duration": 8.513926,
     "end_time": "2024-04-06T11:34:39.771347",
     "exception": false,
     "start_time": "2024-04-06T11:34:31.257421",
     "status": "completed"
    },
    "tags": []
   },
   "outputs": [
    {
     "name": "stdout",
     "output_type": "stream",
     "text": [
      "0.9714729283912286\n",
      "0.9724271844660195\n",
      "0.9721685349826054\n",
      "0.969215876089061\n",
      "0.974111282843895\n",
      "Mean: 0.9718791613545619 \n",
      "STD:  0.0015889963119135413 \n",
      "\n"
     ]
    }
   ],
   "source": [
    "from fairlearn.reductions import DemographicParity\n",
    "from fairlearn.postprocessing import ThresholdOptimizer\n",
    "\n",
    "X = train_df.drop('Type',axis=1)\n",
    "y = train_df['Type']\n",
    "\n",
    "y_pred_4 = pd.Series(0,index=X.index)\n",
    "\n",
    "scores = []                   \n",
    "for train_index, test_index in StratifiedKFold(n_splits=5).split(X.values, y.values):\n",
    "    X_Train, X_Test = X.iloc[train_index,:], X.iloc[test_index,:]\n",
    "    y_Train, y_Test = y.iloc[train_index], y.iloc[test_index]\n",
    "\n",
    "    model.fit(X_Train,y_Train)\n",
    "    \n",
    "    threshopt = ThresholdOptimizer(estimator=model, constraints='equalized_odds',\n",
    "                                       prefit=True, predict_method='auto')\n",
    "    \n",
    "    threshopt.fit(X_Train,y_Train,sensitive_features=X_Train[['Patient Gender','Age Range']])\n",
    "    preds = threshopt.predict(X_Test,sensitive_features=X_Test[['Patient Gender','Age Range']])\n",
    "    y_pred_4[test_index] = preds\n",
    "    \n",
    "    scores.append(f1_score(y_Test.values,preds))\n",
    "    print(scores[-1])\n",
    "\n",
    "print(\"Mean:\",np.mean(scores),\"\\nSTD: \", np.std(scores),'\\n')"
   ]
  },
  {
   "cell_type": "code",
   "execution_count": 25,
   "id": "15c590a5",
   "metadata": {
    "execution": {
     "iopub.execute_input": "2024-04-06T11:34:39.797490Z",
     "iopub.status.busy": "2024-04-06T11:34:39.796806Z",
     "iopub.status.idle": "2024-04-06T11:34:39.814379Z",
     "shell.execute_reply": "2024-04-06T11:34:39.813127Z"
    },
    "papermill": {
     "duration": 0.033854,
     "end_time": "2024-04-06T11:34:39.817161",
     "exception": false,
     "start_time": "2024-04-06T11:34:39.783307",
     "status": "completed"
    },
    "tags": []
   },
   "outputs": [],
   "source": [
    "y_pred_4.to_csv('y_pred_Threshold.csv',index=False)"
   ]
  },
  {
   "cell_type": "code",
   "execution_count": 26,
   "id": "da1253b7",
   "metadata": {
    "execution": {
     "iopub.execute_input": "2024-04-06T11:34:39.843190Z",
     "iopub.status.busy": "2024-04-06T11:34:39.842488Z",
     "iopub.status.idle": "2024-04-06T11:34:40.185111Z",
     "shell.execute_reply": "2024-04-06T11:34:40.183683Z"
    },
    "papermill": {
     "duration": 0.358421,
     "end_time": "2024-04-06T11:34:40.187754",
     "exception": false,
     "start_time": "2024-04-06T11:34:39.829333",
     "status": "completed"
    },
    "tags": []
   },
   "outputs": [],
   "source": [
    "from fairlearn.metrics import demographic_parity_difference, equalized_odds_difference\n",
    "metrics_values.loc[0,'Thres'] = demographic_parity_difference(y,y_pred_4,sensitive_features=X[['Patient Gender','Age Range']])\n",
    "metrics_values.loc[1,'Thres'] = equalized_odds_difference(y,y_pred_4,sensitive_features=X[['Patient Gender','Age Range']])"
   ]
  },
  {
   "cell_type": "code",
   "execution_count": 27,
   "id": "1f82a2c5",
   "metadata": {
    "execution": {
     "iopub.execute_input": "2024-04-06T11:34:40.213523Z",
     "iopub.status.busy": "2024-04-06T11:34:40.213157Z",
     "iopub.status.idle": "2024-04-06T11:34:40.219105Z",
     "shell.execute_reply": "2024-04-06T11:34:40.218082Z"
    },
    "papermill": {
     "duration": 0.021321,
     "end_time": "2024-04-06T11:34:40.221339",
     "exception": false,
     "start_time": "2024-04-06T11:34:40.200018",
     "status": "completed"
    },
    "tags": []
   },
   "outputs": [],
   "source": [
    "metrics_values.to_csv('Metrics_Values.csv',index=False)"
   ]
  },
  {
   "cell_type": "markdown",
   "id": "8b403e1d",
   "metadata": {
    "papermill": {
     "duration": 0.01138,
     "end_time": "2024-04-06T11:34:40.244767",
     "exception": false,
     "start_time": "2024-04-06T11:34:40.233387",
     "status": "completed"
    },
    "tags": []
   },
   "source": [
    "# Plot for Comparison:"
   ]
  },
  {
   "cell_type": "markdown",
   "id": "50dc9e75",
   "metadata": {
    "papermill": {
     "duration": 0.011376,
     "end_time": "2024-04-06T11:34:40.267679",
     "exception": false,
     "start_time": "2024-04-06T11:34:40.256303",
     "status": "completed"
    },
    "tags": []
   },
   "source": [
    "## Demographic Parities"
   ]
  },
  {
   "cell_type": "code",
   "execution_count": 28,
   "id": "c63ad88b",
   "metadata": {
    "execution": {
     "iopub.execute_input": "2024-04-06T11:34:40.292837Z",
     "iopub.status.busy": "2024-04-06T11:34:40.292444Z",
     "iopub.status.idle": "2024-04-06T11:34:40.600815Z",
     "shell.execute_reply": "2024-04-06T11:34:40.599648Z"
    },
    "papermill": {
     "duration": 0.324119,
     "end_time": "2024-04-06T11:34:40.603330",
     "exception": false,
     "start_time": "2024-04-06T11:34:40.279211",
     "status": "completed"
    },
    "tags": []
   },
   "outputs": [
    {
     "data": {
      "image/png": "[encoded data removed]",
      "text/plain": [
       "<Figure size 1500x800 with 1 Axes>"
      ]
     },
     "metadata": {},
     "output_type": "display_data"
    }
   ],
   "source": [
    "import matplotlib.pyplot as plt\n",
    "import numpy as np\n",
    "\n",
    "# creating the dataset\n",
    "metric_1 = {'Original':metrics_values.loc[0,'Original']*100,\n",
    "            'Corr':metrics_values.loc[0,'Corr']*100,\n",
    "            'Expon':metrics_values.loc[0,'Expon']*100, \n",
    "            'Grid':metrics_values.loc[0,'Grid']*100,\n",
    "            'Thres':metrics_values.loc[0,'Thres']*100}\n",
    "metric_2 = {'Original':metrics_values.loc[1,'Original']*100,\n",
    "            'Corr':metrics_values.loc[1,'Corr']*100,\n",
    "            'Expon':metrics_values.loc[1,'Expon']*100, \n",
    "            'Grid':metrics_values.loc[1,'Grid']*100,\n",
    "            'Thres':metrics_values.loc[1,'Thres']*100}\n",
    "\n",
    "#Values of Metrics   \n",
    "metric_1 = list(metric_1.values())\n",
    "metric_2 = list(metric_2.values())\n",
    "\n",
    "#Define the plot\n",
    "fig = plt.subplots(figsize =(15, 8))\n",
    "\n",
    "#Define the Distances\n",
    "br1 = np.arange(5)\n",
    "br2 = [x + 0.15 for x in br1]\n",
    "\n",
    "#Create the bar plot\n",
    "plt.bar(br1, metric_1, color ='darkred', width = 0.15,\n",
    "        edgecolor ='black', label ='Demographic Parity Difference')\n",
    "plt.bar(br2, metric_2, color ='g', width = 0.15,\n",
    "        edgecolor ='black', label ='Equalized Odds Difference')\n",
    "\n",
    "#Name the of The x-axis\n",
    "plt.xticks([r + 0.20 for r in range(5)],\n",
    "        ['Original', 'Corr', 'Expon', 'Grid','Thres'])\n",
    "\n",
    "#y-axis Boundaries\n",
    "plt.ylim((0,70))\n",
    "\n",
    "plt.xlabel(\"Models Used\")\n",
    "plt.ylabel(\"Performance\")\n",
    "plt.title(\"Comparison Between the Demographic Parities of Each Model\")\n",
    "plt.legend()\n",
    "plt.show()\n"
   ]
  }
 ],
 "metadata": {
  "kaggle": {
   "accelerator": "none",
   "dataSources": [
    {
     "datasetId": 3092876,
     "isSourceIdPinned": true,
     "sourceId": 5323631,
     "sourceType": "datasetVersion"
    }
   ],
   "isGpuEnabled": false,
   "isInternetEnabled": true,
   "language": "python",
   "sourceType": "notebook"
  },
  "kernelspec": {
   "display_name": "Python 3",
   "language": "python",
   "name": "python3"
  },
  "language_info": {
   "codemirror_mode": {
    "name": "ipython",
    "version": 3
   },
   "file_extension": ".py",
   "mimetype": "text/x-python",
   "name": "python",
   "nbconvert_exporter": "python",
   "pygments_lexer": "ipython3",
   "version": "3.10.13"
  },
  "papermill": {
   "default_parameters": {},
   "duration": 116.483184,
   "end_time": "2024-04-06T11:34:41.337960",
   "environment_variables": {},
   "exception": null,
   "input_path": "__notebook__.ipynb",
   "output_path": "__notebook__.ipynb",
   "parameters": {},
   "start_time": "2024-04-06T11:32:44.854776",
   "version": "2.5.0"
  }
 },
 "nbformat": 4,
 "nbformat_minor": 5
}
