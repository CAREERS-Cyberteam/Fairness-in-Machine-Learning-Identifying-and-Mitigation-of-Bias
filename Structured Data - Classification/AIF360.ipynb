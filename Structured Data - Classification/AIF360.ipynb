{
 "cells": [
  {
   "cell_type": "code",
   "execution_count": 1,
   "metadata": {},
   "outputs": [
    {
     "name": "stderr",
     "output_type": "stream",
     "text": [
      "WARNING:root:No module named 'tempeh': LawSchoolGPADataset will be unavailable. To install, run:\n",
      "pip install 'aif360[LawSchoolGPA]'\n",
      "2024-02-11 12:31:36.634833: I tensorflow/core/platform/cpu_feature_guard.cc:182] This TensorFlow binary is optimized to use available CPU instructions in performance-critical operations.\n",
      "To enable the following instructions: AVX2 FMA, in other operations, rebuild TensorFlow with the appropriate compiler flags.\n",
      "WARNING:tensorflow:From /Users/macbook/anaconda3/lib/python3.11/site-packages/tensorflow/python/compat/v2_compat.py:108: disable_resource_variables (from tensorflow.python.ops.variable_scope) is deprecated and will be removed in a future version.\n",
      "Instructions for updating:\n",
      "non-resource variables are not supported in the long term\n"
     ]
    }
   ],
   "source": [
    "from sklearn.datasets import fetch_openml\n",
    "#from fairlearn.metrics import MetricFrame\n",
    "from sklearn.metrics import accuracy_score,precision_score,recall_score\n",
    "import seaborn as sns\n",
    "#from fairlearn.metrics import selection_rate\n",
    "import numpy as np\n",
    "import pandas as pd\n",
    "from sklearn.preprocessing import LabelEncoder\n",
    "from aif360.datasets import BinaryLabelDataset\n",
    "from sklearn.linear_model import LogisticRegression\n",
    "#from sklearn.model_selection import train_test_split\n",
    "from sklearn.metrics import accuracy_score\n",
    "import matplotlib.pyplot as plt\n",
    "from sklearn.model_selection import train_test_split\n",
    "from sklearn.ensemble import RandomForestClassifier\n",
    "from aif360.datasets import StandardDataset\n",
    "from aif360.metrics import BinaryLabelDatasetMetric\n",
    "from aif360.algorithms.preprocessing import Reweighing\n",
    "from aif360.algorithms.preprocessing import DisparateImpactRemover\n",
    "from sklearn.metrics import accuracy_score, confusion_matrix\n",
    "from aif360.metrics import ClassificationMetric\n",
    "import tensorflow.compat.v1 as tf\n",
    "tf.disable_v2_behavior()\n",
    "from aif360.algorithms.inprocessing import AdversarialDebiasing\n",
    "\n",
    "\n",
    "from sklearn.model_selection import StratifiedKFold\n",
    "from sklearn.metrics import accuracy_score\n",
    "from tensorflow.keras.layers import Dense, Dropout, Input\n",
    "from tqdm import tqdm\n",
    "\n",
    "\n",
    "!pip install -q BlackBoxAuditing \n",
    "!pip install -q aif360\n",
    "\n",
    "import numpy as np\n",
    "import pandas as pd\n",
    "import tensorflow as tf\n",
    "tf.compat.v1.enable_eager_execution()\n",
    "import os\n",
    "import cv2\n",
    "import matplotlib.pyplot as plt\n",
    "import seaborn as sns\n",
    "from sklearn.preprocessing import LabelEncoder\n",
    "from sklearn.model_selection import train_test_split, StratifiedKFold\n",
    "from sklearn.metrics import accuracy_score\n",
    "import keras\n",
    "from keras.layers import *\n",
    "from keras.models import *\n",
    "from keras.optimizers import Adam\n",
    "from aif360.datasets import StandardDataset\n",
    "from aif360.metrics import ClassificationMetric\n",
    "\n",
    "import warnings\n",
    "warnings.simplefilter(action='ignore', category='PerformanceWarning')\n"
   ]
  },
  {
   "cell_type": "code",
   "execution_count": 2,
   "metadata": {},
   "outputs": [
    {
     "name": "stdout",
     "output_type": "stream",
     "text": [
      "<class 'pandas.core.frame.DataFrame'>\n",
      "RangeIndex: 614 entries, 0 to 613\n",
      "Data columns (total 13 columns):\n",
      " #   Column             Non-Null Count  Dtype  \n",
      "---  ------             --------------  -----  \n",
      " 0   Loan_ID            614 non-null    object \n",
      " 1   Gender             601 non-null    object \n",
      " 2   Married            611 non-null    object \n",
      " 3   Dependents         599 non-null    object \n",
      " 4   Education          614 non-null    object \n",
      " 5   Self_Employed      582 non-null    object \n",
      " 6   ApplicantIncome    614 non-null    int64  \n",
      " 7   CoapplicantIncome  614 non-null    float64\n",
      " 8   LoanAmount         592 non-null    float64\n",
      " 9   Loan_Amount_Term   600 non-null    float64\n",
      " 10  Credit_History     564 non-null    float64\n",
      " 11  Property_Area      614 non-null    object \n",
      " 12  Loan_Status        614 non-null    object \n",
      "dtypes: float64(4), int64(1), object(8)\n",
      "memory usage: 62.5+ KB\n"
     ]
    },
    {
     "data": {
      "text/html": [
       "<div>\n",
       "<style scoped>\n",
       "    .dataframe tbody tr th:only-of-type {\n",
       "        vertical-align: middle;\n",
       "    }\n",
       "\n",
       "    .dataframe tbody tr th {\n",
       "        vertical-align: top;\n",
       "    }\n",
       "\n",
       "    .dataframe thead th {\n",
       "        text-align: right;\n",
       "    }\n",
       "</style>\n",
       "<table border=\"1\" class=\"dataframe\">\n",
       "  <thead>\n",
       "    <tr style=\"text-align: right;\">\n",
       "      <th></th>\n",
       "      <th>Loan_ID</th>\n",
       "      <th>Gender</th>\n",
       "      <th>Married</th>\n",
       "      <th>Dependents</th>\n",
       "      <th>Education</th>\n",
       "      <th>Self_Employed</th>\n",
       "      <th>ApplicantIncome</th>\n",
       "      <th>CoapplicantIncome</th>\n",
       "      <th>LoanAmount</th>\n",
       "      <th>Loan_Amount_Term</th>\n",
       "      <th>Credit_History</th>\n",
       "      <th>Property_Area</th>\n",
       "      <th>Loan_Status</th>\n",
       "    </tr>\n",
       "  </thead>\n",
       "  <tbody>\n",
       "    <tr>\n",
       "      <th>0</th>\n",
       "      <td>LP001002</td>\n",
       "      <td>Male</td>\n",
       "      <td>No</td>\n",
       "      <td>0</td>\n",
       "      <td>Graduate</td>\n",
       "      <td>No</td>\n",
       "      <td>5849</td>\n",
       "      <td>0.0</td>\n",
       "      <td>NaN</td>\n",
       "      <td>360.0</td>\n",
       "      <td>1.0</td>\n",
       "      <td>Urban</td>\n",
       "      <td>Y</td>\n",
       "    </tr>\n",
       "    <tr>\n",
       "      <th>1</th>\n",
       "      <td>LP001003</td>\n",
       "      <td>Male</td>\n",
       "      <td>Yes</td>\n",
       "      <td>1</td>\n",
       "      <td>Graduate</td>\n",
       "      <td>No</td>\n",
       "      <td>4583</td>\n",
       "      <td>1508.0</td>\n",
       "      <td>128.0</td>\n",
       "      <td>360.0</td>\n",
       "      <td>1.0</td>\n",
       "      <td>Rural</td>\n",
       "      <td>N</td>\n",
       "    </tr>\n",
       "    <tr>\n",
       "      <th>2</th>\n",
       "      <td>LP001005</td>\n",
       "      <td>Male</td>\n",
       "      <td>Yes</td>\n",
       "      <td>0</td>\n",
       "      <td>Graduate</td>\n",
       "      <td>Yes</td>\n",
       "      <td>3000</td>\n",
       "      <td>0.0</td>\n",
       "      <td>66.0</td>\n",
       "      <td>360.0</td>\n",
       "      <td>1.0</td>\n",
       "      <td>Urban</td>\n",
       "      <td>Y</td>\n",
       "    </tr>\n",
       "    <tr>\n",
       "      <th>3</th>\n",
       "      <td>LP001006</td>\n",
       "      <td>Male</td>\n",
       "      <td>Yes</td>\n",
       "      <td>0</td>\n",
       "      <td>Not Graduate</td>\n",
       "      <td>No</td>\n",
       "      <td>2583</td>\n",
       "      <td>2358.0</td>\n",
       "      <td>120.0</td>\n",
       "      <td>360.0</td>\n",
       "      <td>1.0</td>\n",
       "      <td>Urban</td>\n",
       "      <td>Y</td>\n",
       "    </tr>\n",
       "    <tr>\n",
       "      <th>4</th>\n",
       "      <td>LP001008</td>\n",
       "      <td>Male</td>\n",
       "      <td>No</td>\n",
       "      <td>0</td>\n",
       "      <td>Graduate</td>\n",
       "      <td>No</td>\n",
       "      <td>6000</td>\n",
       "      <td>0.0</td>\n",
       "      <td>141.0</td>\n",
       "      <td>360.0</td>\n",
       "      <td>1.0</td>\n",
       "      <td>Urban</td>\n",
       "      <td>Y</td>\n",
       "    </tr>\n",
       "  </tbody>\n",
       "</table>\n",
       "</div>"
      ],
      "text/plain": [
       "    Loan_ID Gender Married Dependents     Education Self_Employed  \\\n",
       "0  LP001002   Male      No          0      Graduate            No   \n",
       "1  LP001003   Male     Yes          1      Graduate            No   \n",
       "2  LP001005   Male     Yes          0      Graduate           Yes   \n",
       "3  LP001006   Male     Yes          0  Not Graduate            No   \n",
       "4  LP001008   Male      No          0      Graduate            No   \n",
       "\n",
       "   ApplicantIncome  CoapplicantIncome  LoanAmount  Loan_Amount_Term  \\\n",
       "0             5849                0.0         NaN             360.0   \n",
       "1             4583             1508.0       128.0             360.0   \n",
       "2             3000                0.0        66.0             360.0   \n",
       "3             2583             2358.0       120.0             360.0   \n",
       "4             6000                0.0       141.0             360.0   \n",
       "\n",
       "   Credit_History Property_Area Loan_Status  \n",
       "0             1.0         Urban           Y  \n",
       "1             1.0         Rural           N  \n",
       "2             1.0         Urban           Y  \n",
       "3             1.0         Urban           Y  \n",
       "4             1.0         Urban           Y  "
      ]
     },
     "execution_count": 2,
     "metadata": {},
     "output_type": "execute_result"
    }
   ],
   "source": [
    "df = pd.read_csv('AV3 2.csv')\n",
    "df.info()\n",
    "df.head()"
   ]
  },
  {
   "cell_type": "code",
   "execution_count": 3,
   "metadata": {},
   "outputs": [
    {
     "data": {
      "text/plain": [
       "Loan_ID               0\n",
       "Gender               13\n",
       "Married               3\n",
       "Dependents           15\n",
       "Education             0\n",
       "Self_Employed        32\n",
       "ApplicantIncome       0\n",
       "CoapplicantIncome     0\n",
       "LoanAmount           22\n",
       "Loan_Amount_Term     14\n",
       "Credit_History       50\n",
       "Property_Area         0\n",
       "Loan_Status           0\n",
       "dtype: int64"
      ]
     },
     "execution_count": 3,
     "metadata": {},
     "output_type": "execute_result"
    }
   ],
   "source": [
    "df.isnull().sum()"
   ]
  },
  {
   "cell_type": "markdown",
   "metadata": {},
   "source": [
    "# Preparing data"
   ]
  },
  {
   "cell_type": "markdown",
   "metadata": {},
   "source": [
    "# Filling missing values"
   ]
  },
  {
   "cell_type": "code",
   "execution_count": 4,
   "metadata": {},
   "outputs": [],
   "source": [
    "df.Gender.fillna(df.Gender.mode().values[0], inplace = True)\n",
    "\n",
    "df.Married.fillna(df.Married.mode().values[0], inplace=True)\n",
    "\n",
    "df.Dependents.fillna(df.Dependents.mode().values[0], inplace=True)\n",
    "\n",
    "df.Self_Employed.fillna(df.Self_Employed.mode().values[0], inplace=True)\n",
    "\n",
    "df.LoanAmount.fillna(round(df.LoanAmount.mean(),0),inplace=True)\n",
    "\n",
    "df.Loan_Amount_Term.fillna(round(df.Loan_Amount_Term.mean(),0), inplace=True)\n",
    "\n",
    "df.Credit_History.fillna(df.Credit_History.mode().values[0], inplace=True)\n"
   ]
  },
  {
   "cell_type": "code",
   "execution_count": 5,
   "metadata": {},
   "outputs": [
    {
     "data": {
      "text/plain": [
       "Loan_ID              0\n",
       "Gender               0\n",
       "Married              0\n",
       "Dependents           0\n",
       "Education            0\n",
       "Self_Employed        0\n",
       "ApplicantIncome      0\n",
       "CoapplicantIncome    0\n",
       "LoanAmount           0\n",
       "Loan_Amount_Term     0\n",
       "Credit_History       0\n",
       "Property_Area        0\n",
       "Loan_Status          0\n",
       "dtype: int64"
      ]
     },
     "execution_count": 5,
     "metadata": {},
     "output_type": "execute_result"
    }
   ],
   "source": [
    "df.isnull().sum()"
   ]
  },
  {
   "cell_type": "markdown",
   "metadata": {},
   "source": [
    "# Dropping ID AND Replacing 3+ enteries"
   ]
  },
  {
   "cell_type": "code",
   "execution_count": 6,
   "metadata": {},
   "outputs": [],
   "source": [
    "### dropping ID\n",
    "\n",
    "# Drop Loan_ID\n",
    "df = df.drop(['Loan_ID'], axis = 1)\n",
    "\n",
    "### Replacing 3+\n",
    "\n",
    "### Replacing 3+ in 'Dependents' with 3\n",
    "df = df.replace({'Dependents': '3+'}, 3)"
   ]
  },
  {
   "cell_type": "markdown",
   "metadata": {},
   "source": [
    "# Converting Categorical Variables into Numbers  "
   ]
  },
  {
   "cell_type": "code",
   "execution_count": 7,
   "metadata": {},
   "outputs": [
    {
     "data": {
      "text/html": [
       "<div>\n",
       "<style scoped>\n",
       "    .dataframe tbody tr th:only-of-type {\n",
       "        vertical-align: middle;\n",
       "    }\n",
       "\n",
       "    .dataframe tbody tr th {\n",
       "        vertical-align: top;\n",
       "    }\n",
       "\n",
       "    .dataframe thead th {\n",
       "        text-align: right;\n",
       "    }\n",
       "</style>\n",
       "<table border=\"1\" class=\"dataframe\">\n",
       "  <thead>\n",
       "    <tr style=\"text-align: right;\">\n",
       "      <th></th>\n",
       "      <th>Gender</th>\n",
       "      <th>Married</th>\n",
       "      <th>Dependents</th>\n",
       "      <th>Education</th>\n",
       "      <th>Self_Employed</th>\n",
       "      <th>ApplicantIncome</th>\n",
       "      <th>CoapplicantIncome</th>\n",
       "      <th>LoanAmount</th>\n",
       "      <th>Loan_Amount_Term</th>\n",
       "      <th>Credit_History</th>\n",
       "      <th>Property_Area</th>\n",
       "      <th>Loan_Status</th>\n",
       "    </tr>\n",
       "  </thead>\n",
       "  <tbody>\n",
       "    <tr>\n",
       "      <th>0</th>\n",
       "      <td>1</td>\n",
       "      <td>0</td>\n",
       "      <td>0</td>\n",
       "      <td>0</td>\n",
       "      <td>0</td>\n",
       "      <td>5849</td>\n",
       "      <td>0.0</td>\n",
       "      <td>146.0</td>\n",
       "      <td>360.0</td>\n",
       "      <td>1.0</td>\n",
       "      <td>2</td>\n",
       "      <td>1</td>\n",
       "    </tr>\n",
       "    <tr>\n",
       "      <th>1</th>\n",
       "      <td>1</td>\n",
       "      <td>1</td>\n",
       "      <td>1</td>\n",
       "      <td>0</td>\n",
       "      <td>0</td>\n",
       "      <td>4583</td>\n",
       "      <td>1508.0</td>\n",
       "      <td>128.0</td>\n",
       "      <td>360.0</td>\n",
       "      <td>1.0</td>\n",
       "      <td>0</td>\n",
       "      <td>0</td>\n",
       "    </tr>\n",
       "    <tr>\n",
       "      <th>2</th>\n",
       "      <td>1</td>\n",
       "      <td>1</td>\n",
       "      <td>0</td>\n",
       "      <td>0</td>\n",
       "      <td>1</td>\n",
       "      <td>3000</td>\n",
       "      <td>0.0</td>\n",
       "      <td>66.0</td>\n",
       "      <td>360.0</td>\n",
       "      <td>1.0</td>\n",
       "      <td>2</td>\n",
       "      <td>1</td>\n",
       "    </tr>\n",
       "    <tr>\n",
       "      <th>3</th>\n",
       "      <td>1</td>\n",
       "      <td>1</td>\n",
       "      <td>0</td>\n",
       "      <td>1</td>\n",
       "      <td>0</td>\n",
       "      <td>2583</td>\n",
       "      <td>2358.0</td>\n",
       "      <td>120.0</td>\n",
       "      <td>360.0</td>\n",
       "      <td>1.0</td>\n",
       "      <td>2</td>\n",
       "      <td>1</td>\n",
       "    </tr>\n",
       "    <tr>\n",
       "      <th>4</th>\n",
       "      <td>1</td>\n",
       "      <td>0</td>\n",
       "      <td>0</td>\n",
       "      <td>0</td>\n",
       "      <td>0</td>\n",
       "      <td>6000</td>\n",
       "      <td>0.0</td>\n",
       "      <td>141.0</td>\n",
       "      <td>360.0</td>\n",
       "      <td>1.0</td>\n",
       "      <td>2</td>\n",
       "      <td>1</td>\n",
       "    </tr>\n",
       "  </tbody>\n",
       "</table>\n",
       "</div>"
      ],
      "text/plain": [
       "   Gender  Married Dependents  Education  Self_Employed  ApplicantIncome  \\\n",
       "0       1        0          0          0              0             5849   \n",
       "1       1        1          1          0              0             4583   \n",
       "2       1        1          0          0              1             3000   \n",
       "3       1        1          0          1              0             2583   \n",
       "4       1        0          0          0              0             6000   \n",
       "\n",
       "   CoapplicantIncome  LoanAmount  Loan_Amount_Term  Credit_History  \\\n",
       "0                0.0       146.0             360.0             1.0   \n",
       "1             1508.0       128.0             360.0             1.0   \n",
       "2                0.0        66.0             360.0             1.0   \n",
       "3             2358.0       120.0             360.0             1.0   \n",
       "4                0.0       141.0             360.0             1.0   \n",
       "\n",
       "   Property_Area  Loan_Status  \n",
       "0              2            1  \n",
       "1              0            0  \n",
       "2              2            1  \n",
       "3              2            1  \n",
       "4              2            1  "
      ]
     },
     "execution_count": 7,
     "metadata": {},
     "output_type": "execute_result"
    }
   ],
   "source": [
    "\n",
    "label_encoder=LabelEncoder()\n",
    "\n",
    "df['Gender']=label_encoder.fit_transform(df['Gender'])\n",
    "df['Married']=label_encoder.fit_transform(df['Married'])\n",
    "df['Education']=label_encoder.fit_transform(df['Education'])\n",
    "df['Self_Employed']=label_encoder.fit_transform(df['Self_Employed'])\n",
    "df['Property_Area']=label_encoder.fit_transform(df['Property_Area'])\n",
    "df['Loan_Status']=label_encoder.fit_transform(df['Loan_Status'])\n",
    "df['Gender']=label_encoder.fit_transform(df['Gender'])\n",
    "df.head()"
   ]
  },
  {
   "cell_type": "code",
   "execution_count": null,
   "metadata": {},
   "outputs": [],
   "source": []
  },
  {
   "cell_type": "code",
   "execution_count": null,
   "metadata": {},
   "outputs": [],
   "source": []
  },
  {
   "cell_type": "code",
   "execution_count": null,
   "metadata": {},
   "outputs": [],
   "source": []
  },
  {
   "cell_type": "markdown",
   "metadata": {},
   "source": [
    "# Addressing and Mitigating Bias with AI Fairness 360"
   ]
  },
  {
   "cell_type": "markdown",
   "metadata": {},
   "source": [
    "# Identifying Bias in the model "
   ]
  },
  {
   "cell_type": "markdown",
   "metadata": {},
   "source": [
    "# Splitting data"
   ]
  },
  {
   "cell_type": "code",
   "execution_count": 8,
   "metadata": {},
   "outputs": [],
   "source": [
    "X=df.drop('Loan_Status',axis=1)\n",
    "y=df['Loan_Status']\n",
    "X_train,X_test,y_train,y_test = train_test_split(X, y, test_size=0.2, random_state = 0)"
   ]
  },
  {
   "cell_type": "markdown",
   "metadata": {},
   "source": [
    "# Original Model "
   ]
  },
  {
   "cell_type": "code",
   "execution_count": 9,
   "metadata": {},
   "outputs": [
    {
     "data": {
      "text/html": [
       "<style>#sk-container-id-1 {color: black;}#sk-container-id-1 pre{padding: 0;}#sk-container-id-1 div.sk-toggleable {background-color: white;}#sk-container-id-1 label.sk-toggleable__label {cursor: pointer;display: block;width: 100%;margin-bottom: 0;padding: 0.3em;box-sizing: border-box;text-align: center;}#sk-container-id-1 label.sk-toggleable__label-arrow:before {content: \"▸\";float: left;margin-right: 0.25em;color: #696969;}#sk-container-id-1 label.sk-toggleable__label-arrow:hover:before {color: black;}#sk-container-id-1 div.sk-estimator:hover label.sk-toggleable__label-arrow:before {color: black;}#sk-container-id-1 div.sk-toggleable__content {max-height: 0;max-width: 0;overflow: hidden;text-align: left;background-color: #f0f8ff;}#sk-container-id-1 div.sk-toggleable__content pre {margin: 0.2em;color: black;border-radius: 0.25em;background-color: #f0f8ff;}#sk-container-id-1 input.sk-toggleable__control:checked~div.sk-toggleable__content {max-height: 200px;max-width: 100%;overflow: auto;}#sk-container-id-1 input.sk-toggleable__control:checked~label.sk-toggleable__label-arrow:before {content: \"▾\";}#sk-container-id-1 div.sk-estimator input.sk-toggleable__control:checked~label.sk-toggleable__label {background-color: #d4ebff;}#sk-container-id-1 div.sk-label input.sk-toggleable__control:checked~label.sk-toggleable__label {background-color: #d4ebff;}#sk-container-id-1 input.sk-hidden--visually {border: 0;clip: rect(1px 1px 1px 1px);clip: rect(1px, 1px, 1px, 1px);height: 1px;margin: -1px;overflow: hidden;padding: 0;position: absolute;width: 1px;}#sk-container-id-1 div.sk-estimator {font-family: monospace;background-color: #f0f8ff;border: 1px dotted black;border-radius: 0.25em;box-sizing: border-box;margin-bottom: 0.5em;}#sk-container-id-1 div.sk-estimator:hover {background-color: #d4ebff;}#sk-container-id-1 div.sk-parallel-item::after {content: \"\";width: 100%;border-bottom: 1px solid gray;flex-grow: 1;}#sk-container-id-1 div.sk-label:hover label.sk-toggleable__label {background-color: #d4ebff;}#sk-container-id-1 div.sk-serial::before {content: \"\";position: absolute;border-left: 1px solid gray;box-sizing: border-box;top: 0;bottom: 0;left: 50%;z-index: 0;}#sk-container-id-1 div.sk-serial {display: flex;flex-direction: column;align-items: center;background-color: white;padding-right: 0.2em;padding-left: 0.2em;position: relative;}#sk-container-id-1 div.sk-item {position: relative;z-index: 1;}#sk-container-id-1 div.sk-parallel {display: flex;align-items: stretch;justify-content: center;background-color: white;position: relative;}#sk-container-id-1 div.sk-item::before, #sk-container-id-1 div.sk-parallel-item::before {content: \"\";position: absolute;border-left: 1px solid gray;box-sizing: border-box;top: 0;bottom: 0;left: 50%;z-index: -1;}#sk-container-id-1 div.sk-parallel-item {display: flex;flex-direction: column;z-index: 1;position: relative;background-color: white;}#sk-container-id-1 div.sk-parallel-item:first-child::after {align-self: flex-end;width: 50%;}#sk-container-id-1 div.sk-parallel-item:last-child::after {align-self: flex-start;width: 50%;}#sk-container-id-1 div.sk-parallel-item:only-child::after {width: 0;}#sk-container-id-1 div.sk-dashed-wrapped {border: 1px dashed gray;margin: 0 0.4em 0.5em 0.4em;box-sizing: border-box;padding-bottom: 0.4em;background-color: white;}#sk-container-id-1 div.sk-label label {font-family: monospace;font-weight: bold;display: inline-block;line-height: 1.2em;}#sk-container-id-1 div.sk-label-container {text-align: center;}#sk-container-id-1 div.sk-container {/* jupyter's `normalize.less` sets `[hidden] { display: none; }` but bootstrap.min.css set `[hidden] { display: none !important; }` so we also need the `!important` here to be able to override the default hidden behavior on the sphinx rendered scikit-learn.org. See: https://github.com/scikit-learn/scikit-learn/issues/21755 */display: inline-block !important;position: relative;}#sk-container-id-1 div.sk-text-repr-fallback {display: none;}</style><div id=\"sk-container-id-1\" class=\"sk-top-container\"><div class=\"sk-text-repr-fallback\"><pre>RandomForestClassifier(random_state=42)</pre><b>In a Jupyter environment, please rerun this cell to show the HTML representation or trust the notebook. <br />On GitHub, the HTML representation is unable to render, please try loading this page with nbviewer.org.</b></div><div class=\"sk-container\" hidden><div class=\"sk-item\"><div class=\"sk-estimator sk-toggleable\"><input class=\"sk-toggleable__control sk-hidden--visually\" id=\"sk-estimator-id-1\" type=\"checkbox\" checked><label for=\"sk-estimator-id-1\" class=\"sk-toggleable__label sk-toggleable__label-arrow\">RandomForestClassifier</label><div class=\"sk-toggleable__content\"><pre>RandomForestClassifier(random_state=42)</pre></div></div></div></div></div>"
      ],
      "text/plain": [
       "RandomForestClassifier(random_state=42)"
      ]
     },
     "execution_count": 9,
     "metadata": {},
     "output_type": "execute_result"
    }
   ],
   "source": [
    "model1 = RandomForestClassifier(n_estimators=100, random_state=42)\n",
    "model1.fit(X_train, y_train)"
   ]
  },
  {
   "cell_type": "code",
   "execution_count": 10,
   "metadata": {},
   "outputs": [],
   "source": [
    "y_pred_test = model1.predict(X_test)\n",
    "y_pred = model1.predict(X)"
   ]
  },
  {
   "cell_type": "code",
   "execution_count": null,
   "metadata": {},
   "outputs": [],
   "source": []
  },
  {
   "cell_type": "markdown",
   "metadata": {},
   "source": [
    "# Metrics"
   ]
  },
  {
   "cell_type": "code",
   "execution_count": 11,
   "metadata": {},
   "outputs": [
    {
     "name": "stdout",
     "output_type": "stream",
     "text": [
      "Gender Bias Identification:\n",
      "Max Statistical Parity Difference (Ideal value = 0): 0.1242124212421242\n",
      "Max Average Odds Difference (Ideal value = 0): 0.0897782772782773\n",
      "Max Equal Opportunity Difference (Ideal value = 0): 0.18055555555555558\n",
      "Max Theil Index (Ideal value = 0): 0.19007812277935573\n",
      "Max Generalized Entropy Index (Ideal value = 0): 0.12393474555636722\n",
      "Max Disparate Impact (Ideal value = 1): 1.8363636363636364\n"
     ]
    }
   ],
   "source": [
    "\n",
    "# Initialize variables to store maximum values of each metric\n",
    "max_spd = max_aod = max_eod = max_theil = max_gei = max_di = -np.inf\n",
    "_X_test = pd.DataFrame(X_test, columns=X.columns)\n",
    "_y_test = pd.DataFrame(y_test, columns=['Loan_Status'])\n",
    "\n",
    "\n",
    "for age_cls in [0,1]:\n",
    "    for priv_cls in [0,1]:\n",
    "        # Convert to AIF360 format\n",
    "        aif360_dataset = StandardDataset(df=pd.concat([_X_test, _y_test], axis=1),\n",
    "                                         label_name='Loan_Status', favorable_classes=[age_cls],\n",
    "                                         protected_attribute_names=['Gender'],\n",
    "                                         privileged_classes=[[priv_cls]])\n",
    "\n",
    "        # Create a dataset for the predictions\n",
    "        aif360_pred_dataset = aif360_dataset.copy()\n",
    "        aif360_pred_dataset.labels = y_pred_test\n",
    "#np.argmax(y_pred_test).values,axis=1\n",
    "        import numpy as np\n",
    "\n",
    "        # Define the groups\n",
    "        groups = [\n",
    "            {'Gender': 0},\n",
    "            {'Gender': 1}\n",
    "        ]\n",
    "\n",
    "\n",
    "\n",
    "        # Iterate through the groups\n",
    "        for i, privileged_group in enumerate(groups):\n",
    "            # Define unprivileged groups as all other groups\n",
    "            unprivileged_groups = groups[:i] + groups[i+1:]\n",
    "\n",
    "            # Calculate metrics\n",
    "            metric = ClassificationMetric(aif360_dataset, aif360_pred_dataset,\n",
    "                                          unprivileged_groups=unprivileged_groups,\n",
    "                                          privileged_groups=[privileged_group])\n",
    "\n",
    "            # Update maximum values\n",
    "            max_spd = max(max_spd, metric.statistical_parity_difference())\n",
    "            max_aod = max(max_aod, metric.average_odds_difference())\n",
    "            max_eod = max(max_eod, metric.equal_opportunity_difference())\n",
    "            max_theil = max(max_theil, metric.theil_index())\n",
    "            max_gei = max(max_gei, metric.generalized_entropy_index())\n",
    "            max_di = max(max_di, metric.disparate_impact())\n",
    "\n",
    "# Print maximum values\n",
    "print(\"Gender Bias Identification:\")\n",
    "print(\"Max Statistical Parity Difference (Ideal value = 0):\", max_spd)\n",
    "print(\"Max Average Odds Difference (Ideal value = 0):\", max_aod)\n",
    "print(\"Max Equal Opportunity Difference (Ideal value = 0):\", max_eod)\n",
    "print(\"Max Theil Index (Ideal value = 0):\", max_theil)\n",
    "print(\"Max Generalized Entropy Index (Ideal value = 0):\", max_gei)\n",
    "print(\"Max Disparate Impact (Ideal value = 1):\", max_di)"
   ]
  },
  {
   "cell_type": "markdown",
   "metadata": {},
   "source": [
    "# Mitigation Algorithms"
   ]
  },
  {
   "cell_type": "markdown",
   "metadata": {},
   "source": [
    "## Preprocessing Algorithms:"
   ]
  },
  {
   "cell_type": "markdown",
   "metadata": {},
   "source": [
    "### 1- Reweighing"
   ]
  },
  {
   "cell_type": "code",
   "execution_count": 12,
   "metadata": {},
   "outputs": [
    {
     "data": {
      "text/html": [
       "<style>#sk-container-id-2 {color: black;}#sk-container-id-2 pre{padding: 0;}#sk-container-id-2 div.sk-toggleable {background-color: white;}#sk-container-id-2 label.sk-toggleable__label {cursor: pointer;display: block;width: 100%;margin-bottom: 0;padding: 0.3em;box-sizing: border-box;text-align: center;}#sk-container-id-2 label.sk-toggleable__label-arrow:before {content: \"▸\";float: left;margin-right: 0.25em;color: #696969;}#sk-container-id-2 label.sk-toggleable__label-arrow:hover:before {color: black;}#sk-container-id-2 div.sk-estimator:hover label.sk-toggleable__label-arrow:before {color: black;}#sk-container-id-2 div.sk-toggleable__content {max-height: 0;max-width: 0;overflow: hidden;text-align: left;background-color: #f0f8ff;}#sk-container-id-2 div.sk-toggleable__content pre {margin: 0.2em;color: black;border-radius: 0.25em;background-color: #f0f8ff;}#sk-container-id-2 input.sk-toggleable__control:checked~div.sk-toggleable__content {max-height: 200px;max-width: 100%;overflow: auto;}#sk-container-id-2 input.sk-toggleable__control:checked~label.sk-toggleable__label-arrow:before {content: \"▾\";}#sk-container-id-2 div.sk-estimator input.sk-toggleable__control:checked~label.sk-toggleable__label {background-color: #d4ebff;}#sk-container-id-2 div.sk-label input.sk-toggleable__control:checked~label.sk-toggleable__label {background-color: #d4ebff;}#sk-container-id-2 input.sk-hidden--visually {border: 0;clip: rect(1px 1px 1px 1px);clip: rect(1px, 1px, 1px, 1px);height: 1px;margin: -1px;overflow: hidden;padding: 0;position: absolute;width: 1px;}#sk-container-id-2 div.sk-estimator {font-family: monospace;background-color: #f0f8ff;border: 1px dotted black;border-radius: 0.25em;box-sizing: border-box;margin-bottom: 0.5em;}#sk-container-id-2 div.sk-estimator:hover {background-color: #d4ebff;}#sk-container-id-2 div.sk-parallel-item::after {content: \"\";width: 100%;border-bottom: 1px solid gray;flex-grow: 1;}#sk-container-id-2 div.sk-label:hover label.sk-toggleable__label {background-color: #d4ebff;}#sk-container-id-2 div.sk-serial::before {content: \"\";position: absolute;border-left: 1px solid gray;box-sizing: border-box;top: 0;bottom: 0;left: 50%;z-index: 0;}#sk-container-id-2 div.sk-serial {display: flex;flex-direction: column;align-items: center;background-color: white;padding-right: 0.2em;padding-left: 0.2em;position: relative;}#sk-container-id-2 div.sk-item {position: relative;z-index: 1;}#sk-container-id-2 div.sk-parallel {display: flex;align-items: stretch;justify-content: center;background-color: white;position: relative;}#sk-container-id-2 div.sk-item::before, #sk-container-id-2 div.sk-parallel-item::before {content: \"\";position: absolute;border-left: 1px solid gray;box-sizing: border-box;top: 0;bottom: 0;left: 50%;z-index: -1;}#sk-container-id-2 div.sk-parallel-item {display: flex;flex-direction: column;z-index: 1;position: relative;background-color: white;}#sk-container-id-2 div.sk-parallel-item:first-child::after {align-self: flex-end;width: 50%;}#sk-container-id-2 div.sk-parallel-item:last-child::after {align-self: flex-start;width: 50%;}#sk-container-id-2 div.sk-parallel-item:only-child::after {width: 0;}#sk-container-id-2 div.sk-dashed-wrapped {border: 1px dashed gray;margin: 0 0.4em 0.5em 0.4em;box-sizing: border-box;padding-bottom: 0.4em;background-color: white;}#sk-container-id-2 div.sk-label label {font-family: monospace;font-weight: bold;display: inline-block;line-height: 1.2em;}#sk-container-id-2 div.sk-label-container {text-align: center;}#sk-container-id-2 div.sk-container {/* jupyter's `normalize.less` sets `[hidden] { display: none; }` but bootstrap.min.css set `[hidden] { display: none !important; }` so we also need the `!important` here to be able to override the default hidden behavior on the sphinx rendered scikit-learn.org. See: https://github.com/scikit-learn/scikit-learn/issues/21755 */display: inline-block !important;position: relative;}#sk-container-id-2 div.sk-text-repr-fallback {display: none;}</style><div id=\"sk-container-id-2\" class=\"sk-top-container\"><div class=\"sk-text-repr-fallback\"><pre>RandomForestClassifier(random_state=42)</pre><b>In a Jupyter environment, please rerun this cell to show the HTML representation or trust the notebook. <br />On GitHub, the HTML representation is unable to render, please try loading this page with nbviewer.org.</b></div><div class=\"sk-container\" hidden><div class=\"sk-item\"><div class=\"sk-estimator sk-toggleable\"><input class=\"sk-toggleable__control sk-hidden--visually\" id=\"sk-estimator-id-2\" type=\"checkbox\" checked><label for=\"sk-estimator-id-2\" class=\"sk-toggleable__label sk-toggleable__label-arrow\">RandomForestClassifier</label><div class=\"sk-toggleable__content\"><pre>RandomForestClassifier(random_state=42)</pre></div></div></div></div></div>"
      ],
      "text/plain": [
       "RandomForestClassifier(random_state=42)"
      ]
     },
     "execution_count": 12,
     "metadata": {},
     "output_type": "execute_result"
    }
   ],
   "source": [
    "\n",
    "    \n",
    "for age_cls in [0,1]:\n",
    "    for priv_cls in [0,1]:\n",
    "        # Convert to AIF360 format\n",
    "        aif360_dataset_train = StandardDataset(df=pd.concat([X_train, y_train], axis=1),\n",
    "                                           label_name='Loan_Status', favorable_classes=[age_cls],\n",
    "                                           protected_attribute_names=['Gender'],\n",
    "                                           privileged_classes=[[priv_cls]])\n",
    "    \n",
    "\n",
    "    # Define the groups\n",
    "    groups = [\n",
    "        {'Gender': 0},\n",
    "        {'Gender': 1}\n",
    "        ]\n",
    "\n",
    "        # Iterate through the groups\n",
    "    for i, privileged_group in enumerate(groups):\n",
    "            # Define unprivileged groups as all other groups\n",
    "            unprivileged_groups = groups[:i] + groups[i+1:]\n",
    "\n",
    "                                          \n",
    "weights = aif360_dataset_train.instance_weights\n",
    "preprocessor = Reweighing(unprivileged_groups=unprivileged_groups, privileged_groups=[privileged_group])\n",
    "train_dataset_reweighted = preprocessor.fit_transform(aif360_dataset_train)\n",
    "#metric_e = BinaryLabelDatasetMetric(train_dataset_reweighted, unprivileged_groups=[{sensitive_attribute: 0}], privileged_groups=[{sensitive_attribute: 1}])\n",
    "\n",
    "model_weigh = RandomForestClassifier(n_estimators=100, random_state=42)\n",
    "model_weigh.fit(X_train,y_train , sample_weight=weights)\n",
    "#aif360_dataset_train.features  aif360_dataset_train.labels.ravel()  "
   ]
  },
  {
   "cell_type": "code",
   "execution_count": null,
   "metadata": {},
   "outputs": [],
   "source": []
  },
  {
   "cell_type": "code",
   "execution_count": 13,
   "metadata": {},
   "outputs": [],
   "source": [
    "y_pred_wei = model_weigh.predict(X)"
   ]
  },
  {
   "cell_type": "code",
   "execution_count": 14,
   "metadata": {},
   "outputs": [
    {
     "name": "stdout",
     "output_type": "stream",
     "text": [
      "Gender Bias Identification:\n",
      "Max Statistical Parity Difference (Ideal value = 0): 0.012734775184974456\n",
      "Max Average Odds Difference (Ideal value = 0): 0.007645823754404216\n",
      "Max Equal Opportunity Difference (Ideal value = 0): 0.011333914559720992\n",
      "Max Theil Index (Ideal value = 0): 0.03585718471180844\n",
      "Max Generalized Entropy Index (Ideal value = 0): 0.021826469906513025\n",
      "Max Disparate Impact (Ideal value = 1): 1.0437866927592954\n"
     ]
    }
   ],
   "source": [
    "# Initialize variables to store maximum values of each metric\n",
    "max_spd = max_aod = max_eod = max_theil = max_gei = max_di = -np.inf\n",
    "#_X_test = pd.DataFrame(X_test, columns=X.columns)\n",
    "#_y_test = pd.DataFrame(y_test, columns=['Loan_Status'])\n",
    "\n",
    "\n",
    "for age_cls in [0,1]:\n",
    "    for priv_cls in [0,1]:\n",
    "        # Convert to AIF360 format\n",
    "        aif360_dataset = StandardDataset(df=pd.concat([X, y], axis=1),\n",
    "                                         label_name='Loan_Status', favorable_classes=[age_cls],\n",
    "                                         protected_attribute_names=['Gender'],\n",
    "                                         privileged_classes=[[priv_cls]])\n",
    "\n",
    "        # Create a dataset for the predictions\n",
    "        aif360_pred_dataset1 = aif360_dataset.copy()\n",
    "        aif360_pred_dataset1.labels = y_pred_wei\n",
    "#np.argmax(y_pred_wei).values,axis=1\n",
    "        import numpy as np\n",
    "\n",
    "        # Define the groups\n",
    "        groups = [\n",
    "            {'Gender': 0},\n",
    "            {'Gender': 1}\n",
    "        ]\n",
    "\n",
    "#aif360_pred_dataset.labels = \n",
    "\n",
    "        # Iterate through the groups\n",
    "        for i, privileged_group in enumerate(groups):\n",
    "            # Define unprivileged groups as all other groups\n",
    "            unprivileged_groups = groups[:i] + groups[i+1:]\n",
    "\n",
    "            # Calculate metrics\n",
    "            metric = ClassificationMetric(aif360_dataset, aif360_pred_dataset1,\n",
    "                                          unprivileged_groups=unprivileged_groups,\n",
    "                                          privileged_groups=[privileged_group])\n",
    "\n",
    "            # Update maximum values\n",
    "            max_spd = max(max_spd, metric.statistical_parity_difference())\n",
    "            max_aod = max(max_aod, metric.average_odds_difference())\n",
    "            max_eod = max(max_eod, metric.equal_opportunity_difference())\n",
    "            max_theil = max(max_theil, metric.theil_index())\n",
    "            max_gei = max(max_gei, metric.generalized_entropy_index())\n",
    "            max_di = max(max_di, metric.disparate_impact())\n",
    "\n",
    "# Print maximum values\n",
    "print(\"Gender Bias Identification:\")\n",
    "print(\"Max Statistical Parity Difference (Ideal value = 0):\", max_spd)\n",
    "print(\"Max Average Odds Difference (Ideal value = 0):\", max_aod)\n",
    "print(\"Max Equal Opportunity Difference (Ideal value = 0):\", max_eod)\n",
    "print(\"Max Theil Index (Ideal value = 0):\", max_theil)\n",
    "print(\"Max Generalized Entropy Index (Ideal value = 0):\", max_gei)\n",
    "print(\"Max Disparate Impact (Ideal value = 1):\", max_di)"
   ]
  },
  {
   "cell_type": "markdown",
   "metadata": {},
   "source": [
    "## 2- Disparate Impact Remover"
   ]
  },
  {
   "cell_type": "code",
   "execution_count": 15,
   "metadata": {},
   "outputs": [
    {
     "data": {
      "text/html": [
       "<style>#sk-container-id-3 {color: black;}#sk-container-id-3 pre{padding: 0;}#sk-container-id-3 div.sk-toggleable {background-color: white;}#sk-container-id-3 label.sk-toggleable__label {cursor: pointer;display: block;width: 100%;margin-bottom: 0;padding: 0.3em;box-sizing: border-box;text-align: center;}#sk-container-id-3 label.sk-toggleable__label-arrow:before {content: \"▸\";float: left;margin-right: 0.25em;color: #696969;}#sk-container-id-3 label.sk-toggleable__label-arrow:hover:before {color: black;}#sk-container-id-3 div.sk-estimator:hover label.sk-toggleable__label-arrow:before {color: black;}#sk-container-id-3 div.sk-toggleable__content {max-height: 0;max-width: 0;overflow: hidden;text-align: left;background-color: #f0f8ff;}#sk-container-id-3 div.sk-toggleable__content pre {margin: 0.2em;color: black;border-radius: 0.25em;background-color: #f0f8ff;}#sk-container-id-3 input.sk-toggleable__control:checked~div.sk-toggleable__content {max-height: 200px;max-width: 100%;overflow: auto;}#sk-container-id-3 input.sk-toggleable__control:checked~label.sk-toggleable__label-arrow:before {content: \"▾\";}#sk-container-id-3 div.sk-estimator input.sk-toggleable__control:checked~label.sk-toggleable__label {background-color: #d4ebff;}#sk-container-id-3 div.sk-label input.sk-toggleable__control:checked~label.sk-toggleable__label {background-color: #d4ebff;}#sk-container-id-3 input.sk-hidden--visually {border: 0;clip: rect(1px 1px 1px 1px);clip: rect(1px, 1px, 1px, 1px);height: 1px;margin: -1px;overflow: hidden;padding: 0;position: absolute;width: 1px;}#sk-container-id-3 div.sk-estimator {font-family: monospace;background-color: #f0f8ff;border: 1px dotted black;border-radius: 0.25em;box-sizing: border-box;margin-bottom: 0.5em;}#sk-container-id-3 div.sk-estimator:hover {background-color: #d4ebff;}#sk-container-id-3 div.sk-parallel-item::after {content: \"\";width: 100%;border-bottom: 1px solid gray;flex-grow: 1;}#sk-container-id-3 div.sk-label:hover label.sk-toggleable__label {background-color: #d4ebff;}#sk-container-id-3 div.sk-serial::before {content: \"\";position: absolute;border-left: 1px solid gray;box-sizing: border-box;top: 0;bottom: 0;left: 50%;z-index: 0;}#sk-container-id-3 div.sk-serial {display: flex;flex-direction: column;align-items: center;background-color: white;padding-right: 0.2em;padding-left: 0.2em;position: relative;}#sk-container-id-3 div.sk-item {position: relative;z-index: 1;}#sk-container-id-3 div.sk-parallel {display: flex;align-items: stretch;justify-content: center;background-color: white;position: relative;}#sk-container-id-3 div.sk-item::before, #sk-container-id-3 div.sk-parallel-item::before {content: \"\";position: absolute;border-left: 1px solid gray;box-sizing: border-box;top: 0;bottom: 0;left: 50%;z-index: -1;}#sk-container-id-3 div.sk-parallel-item {display: flex;flex-direction: column;z-index: 1;position: relative;background-color: white;}#sk-container-id-3 div.sk-parallel-item:first-child::after {align-self: flex-end;width: 50%;}#sk-container-id-3 div.sk-parallel-item:last-child::after {align-self: flex-start;width: 50%;}#sk-container-id-3 div.sk-parallel-item:only-child::after {width: 0;}#sk-container-id-3 div.sk-dashed-wrapped {border: 1px dashed gray;margin: 0 0.4em 0.5em 0.4em;box-sizing: border-box;padding-bottom: 0.4em;background-color: white;}#sk-container-id-3 div.sk-label label {font-family: monospace;font-weight: bold;display: inline-block;line-height: 1.2em;}#sk-container-id-3 div.sk-label-container {text-align: center;}#sk-container-id-3 div.sk-container {/* jupyter's `normalize.less` sets `[hidden] { display: none; }` but bootstrap.min.css set `[hidden] { display: none !important; }` so we also need the `!important` here to be able to override the default hidden behavior on the sphinx rendered scikit-learn.org. See: https://github.com/scikit-learn/scikit-learn/issues/21755 */display: inline-block !important;position: relative;}#sk-container-id-3 div.sk-text-repr-fallback {display: none;}</style><div id=\"sk-container-id-3\" class=\"sk-top-container\"><div class=\"sk-text-repr-fallback\"><pre>RandomForestClassifier(random_state=42)</pre><b>In a Jupyter environment, please rerun this cell to show the HTML representation or trust the notebook. <br />On GitHub, the HTML representation is unable to render, please try loading this page with nbviewer.org.</b></div><div class=\"sk-container\" hidden><div class=\"sk-item\"><div class=\"sk-estimator sk-toggleable\"><input class=\"sk-toggleable__control sk-hidden--visually\" id=\"sk-estimator-id-3\" type=\"checkbox\" checked><label for=\"sk-estimator-id-3\" class=\"sk-toggleable__label sk-toggleable__label-arrow\">RandomForestClassifier</label><div class=\"sk-toggleable__content\"><pre>RandomForestClassifier(random_state=42)</pre></div></div></div></div></div>"
      ],
      "text/plain": [
       "RandomForestClassifier(random_state=42)"
      ]
     },
     "execution_count": 15,
     "metadata": {},
     "output_type": "execute_result"
    }
   ],
   "source": [
    "  \n",
    "_X_test = pd.DataFrame(X_test, columns=X.columns)\n",
    "_y_test = pd.DataFrame(y_test, columns=['Loan_Status'])\n",
    " \n",
    "\n",
    "transformed_X_Train = pd.DataFrame(index=X_train.index, columns=X_train.columns)\n",
    "\n",
    "groups = [\n",
    "    {'Gender': 0},\n",
    "    {'Gender': 1},\n",
    "                  ]\n",
    "priv_group = groups[0]\n",
    "unprivileged_groups = [groups[1]]\n",
    "aif360_dataset = StandardDataset(df,\n",
    "                                         label_name='Loan_Status', favorable_classes=[age_cls],\n",
    "                                         protected_attribute_names=['Gender'],\n",
    "                                         privileged_classes=[[priv_cls]])\n",
    "\n",
    "   \n",
    "DIR = DisparateImpactRemover(repair_level=1.0, sensitive_attribute=\"Gender\")\n",
    "aif360_dataset_train = DIR.fit_transform(aif360_dataset)         \n",
    "transformed_X_Train = transformed_X_Train.add(pd.DataFrame(aif360_dataset_train.features, columns=X.columns), fill_value=0)\n",
    "            \n",
    "\n",
    "\n",
    "model_DIR = RandomForestClassifier(n_estimators=100, random_state=42)\n",
    "model_DIR.fit(transformed_X_Train.astype('float32'), y.astype('float32'))\n",
    "\n",
    "#aif360_dataset_train.features  aif360_dataset_train.labels.ravel() "
   ]
  },
  {
   "cell_type": "code",
   "execution_count": 16,
   "metadata": {},
   "outputs": [],
   "source": [
    "  \n",
    "y_pred_DIR= model_DIR.predict(X_test)"
   ]
  },
  {
   "cell_type": "code",
   "execution_count": 18,
   "metadata": {},
   "outputs": [
    {
     "name": "stdout",
     "output_type": "stream",
     "text": [
      "Gender Bias Identification:\n",
      "Max Statistical Parity Difference (Ideal value = 0): 0.2011701170117012\n",
      "Max Average Odds Difference (Ideal value = 0): 0.10551948051948051\n",
      "Max Equal Opportunity Difference (Ideal value = 0): 0.25\n",
      "Max Theil Index (Ideal value = 0): 0.0593499716183689\n",
      "Max Generalized Entropy Index (Ideal value = 0): 0.03812500000000017\n",
      "Max Disparate Impact (Ideal value = 1): 1.9675324675324677\n"
     ]
    }
   ],
   "source": [
    "# Initialize variables to store maximum values of each metric\n",
    "\n",
    "max_spd = max_aod = max_eod = max_theil = max_gei = max_di = -np.inf\n",
    "_X_test = pd.DataFrame(X_test, columns=X.columns)\n",
    "_y_test = pd.DataFrame(y_test, columns=['Loan_Status'])\n",
    "\n",
    "\n",
    "for age_cls in [0,1]:\n",
    "    for priv_cls in [0,1]:\n",
    "        # Convert to AIF360 format\n",
    "        aif360_dataset = StandardDataset(df=pd.concat([_X_test, _y_test], axis=1),\n",
    "                                         label_name='Loan_Status', favorable_classes=[age_cls],\n",
    "                                         protected_attribute_names=['Gender'],\n",
    "                                         privileged_classes=[[priv_cls]])\n",
    "\n",
    "        # Create a dataset for the predictions\n",
    "        aif360_pred_dataset2 = aif360_dataset.copy()\n",
    "        aif360_pred_dataset2.labels = y_pred_DIR\n",
    "#np.argmax(y_pred_wei).values,axis=1\n",
    "        import numpy as np\n",
    "\n",
    "        # Define the groups\n",
    "        groups = [\n",
    "            {'Gender': 0},\n",
    "            {'Gender': 1}\n",
    "        ]\n",
    "\n",
    "#aif360_pred_dataset.labels = \n",
    "\n",
    "        # Iterate through the groups\n",
    "        for i, privileged_group in enumerate(groups):\n",
    "            # Define unprivileged groups as all other groups\n",
    "            unprivileged_groups = groups[:i] + groups[i+1:]\n",
    "\n",
    "            # Calculate metrics\n",
    "            metric = ClassificationMetric(aif360_dataset, aif360_pred_dataset2,\n",
    "                                          unprivileged_groups=unprivileged_groups,\n",
    "                                          privileged_groups=[privileged_group])\n",
    "\n",
    "            # Update maximum values\n",
    "            max_spd = max(max_spd, metric.statistical_parity_difference())\n",
    "            max_aod = max(max_aod, metric.average_odds_difference())\n",
    "            max_eod = max(max_eod, metric.equal_opportunity_difference())\n",
    "            max_theil = max(max_theil, metric.theil_index())\n",
    "            max_gei = max(max_gei, metric.generalized_entropy_index())\n",
    "            max_di = max(max_di, metric.disparate_impact())\n",
    "\n",
    "# Print maximum values\n",
    "print(\"Gender Bias Identification:\")\n",
    "print(\"Max Statistical Parity Difference (Ideal value = 0):\", max_spd)\n",
    "print(\"Max Average Odds Difference (Ideal value = 0):\", max_aod)\n",
    "print(\"Max Equal Opportunity Difference (Ideal value = 0):\", max_eod)\n",
    "print(\"Max Theil Index (Ideal value = 0):\", max_theil)\n",
    "print(\"Max Generalized Entropy Index (Ideal value = 0):\", max_gei)\n",
    "print(\"Max Disparate Impact (Ideal value = 1):\", max_di)"
   ]
  },
  {
   "cell_type": "code",
   "execution_count": null,
   "metadata": {},
   "outputs": [],
   "source": []
  },
  {
   "cell_type": "markdown",
   "metadata": {},
   "source": [
    "# In-processing Algorithms:"
   ]
  },
  {
   "cell_type": "markdown",
   "metadata": {},
   "source": [
    "## 1- Adversarial Debiasing"
   ]
  },
  {
   "cell_type": "code",
   "execution_count": 21,
   "metadata": {},
   "outputs": [],
   "source": [
    " y_pred_8 = y_pred_DIR.copy()"
   ]
  },
  {
   "cell_type": "code",
   "execution_count": 26,
   "metadata": {},
   "outputs": [
    {
     "name": "stdout",
     "output_type": "stream",
     "text": [
      "2.15.0\n"
     ]
    }
   ],
   "source": [
    "\n",
    "#pip install --upgrade tensorflow\n",
    "import tensorflow as tf\n",
    "print(tf.__version__)\n"
   ]
  },
  {
   "cell_type": "code",
   "execution_count": null,
   "metadata": {},
   "outputs": [],
   "source": [
    "#pip install tensorflow"
   ]
  },
  {
   "cell_type": "code",
   "execution_count": 30,
   "metadata": {},
   "outputs": [
    {
     "name": "stderr",
     "output_type": "stream",
     "text": [
      "0it [00:00, ?it/s]"
     ]
    },
    {
     "name": "stdout",
     "output_type": "stream",
     "text": [
      "epoch 0; iter: 0; batch classifier loss: 187.919739; batch adversarial loss: 1.156157\n",
      "epoch 1; iter: 0; batch classifier loss: nan; batch adversarial loss: nan\n",
      "epoch 2; iter: 0; batch classifier loss: nan; batch adversarial loss: nan\n",
      "epoch 3; iter: 0; batch classifier loss: nan; batch adversarial loss: nan\n",
      "epoch 4; iter: 0; batch classifier loss: nan; batch adversarial loss: nan\n",
      "epoch 5; iter: 0; batch classifier loss: nan; batch adversarial loss: nan\n",
      "epoch 6; iter: 0; batch classifier loss: nan; batch adversarial loss: nan\n",
      "epoch 7; iter: 0; batch classifier loss: nan; batch adversarial loss: nan\n",
      "epoch 8; iter: 0; batch classifier loss: nan; batch adversarial loss: nan\n",
      "epoch 9; iter: 0; batch classifier loss: nan; batch adversarial loss: nan\n",
      "epoch 0; iter: 0; batch classifier loss: 146.463806; batch adversarial loss: 0.676447\n",
      "epoch 1; iter: 0; batch classifier loss: nan; batch adversarial loss: nan\n",
      "epoch 2; iter: 0; batch classifier loss: nan; batch adversarial loss: nan\n",
      "epoch 3; iter: 0; batch classifier loss: nan; batch adversarial loss: nan\n",
      "epoch 4; iter: 0; batch classifier loss: nan; batch adversarial loss: nan\n",
      "epoch 5; iter: 0; batch classifier loss: nan; batch adversarial loss: nan\n",
      "epoch 6; iter: 0; batch classifier loss: nan; batch adversarial loss: nan\n",
      "epoch 7; iter: 0; batch classifier loss: nan; batch adversarial loss: nan\n",
      "epoch 8; iter: 0; batch classifier loss: nan; batch adversarial loss: nan\n",
      "epoch 9; iter: 0; batch classifier loss: nan; batch adversarial loss: nan\n"
     ]
    },
    {
     "name": "stderr",
     "output_type": "stream",
     "text": [
      "1it [00:02,  2.28s/it]"
     ]
    },
    {
     "name": "stdout",
     "output_type": "stream",
     "text": [
      "epoch 0; iter: 0; batch classifier loss: 252.435135; batch adversarial loss: 0.693925\n",
      "epoch 1; iter: 0; batch classifier loss: nan; batch adversarial loss: nan\n",
      "epoch 2; iter: 0; batch classifier loss: nan; batch adversarial loss: nan\n",
      "epoch 3; iter: 0; batch classifier loss: nan; batch adversarial loss: nan\n",
      "epoch 4; iter: 0; batch classifier loss: nan; batch adversarial loss: nan\n",
      "epoch 5; iter: 0; batch classifier loss: nan; batch adversarial loss: nan\n",
      "epoch 6; iter: 0; batch classifier loss: nan; batch adversarial loss: nan\n",
      "epoch 7; iter: 0; batch classifier loss: nan; batch adversarial loss: nan\n",
      "epoch 8; iter: 0; batch classifier loss: nan; batch adversarial loss: nan\n",
      "epoch 9; iter: 0; batch classifier loss: nan; batch adversarial loss: nan\n",
      "epoch 0; iter: 0; batch classifier loss: 141.625519; batch adversarial loss: 0.702676\n",
      "epoch 1; iter: 0; batch classifier loss: nan; batch adversarial loss: nan\n",
      "epoch 2; iter: 0; batch classifier loss: nan; batch adversarial loss: nan\n",
      "epoch 3; iter: 0; batch classifier loss: nan; batch adversarial loss: nan\n",
      "epoch 4; iter: 0; batch classifier loss: nan; batch adversarial loss: nan\n",
      "epoch 5; iter: 0; batch classifier loss: nan; batch adversarial loss: nan\n",
      "epoch 6; iter: 0; batch classifier loss: nan; batch adversarial loss: nan\n",
      "epoch 7; iter: 0; batch classifier loss: nan; batch adversarial loss: nan\n",
      "epoch 8; iter: 0; batch classifier loss: nan; batch adversarial loss: nan\n",
      "epoch 9; iter: 0; batch classifier loss: nan; batch adversarial loss: nan\n"
     ]
    },
    {
     "name": "stderr",
     "output_type": "stream",
     "text": [
      "2it [00:04,  2.20s/it]"
     ]
    },
    {
     "name": "stdout",
     "output_type": "stream",
     "text": [
      "epoch 0; iter: 0; batch classifier loss: 171.355026; batch adversarial loss: 0.713757\n",
      "epoch 1; iter: 0; batch classifier loss: nan; batch adversarial loss: nan\n",
      "epoch 2; iter: 0; batch classifier loss: nan; batch adversarial loss: nan\n",
      "epoch 3; iter: 0; batch classifier loss: nan; batch adversarial loss: nan\n",
      "epoch 4; iter: 0; batch classifier loss: nan; batch adversarial loss: nan\n",
      "epoch 5; iter: 0; batch classifier loss: nan; batch adversarial loss: nan\n",
      "epoch 6; iter: 0; batch classifier loss: nan; batch adversarial loss: nan\n",
      "epoch 7; iter: 0; batch classifier loss: nan; batch adversarial loss: nan\n",
      "epoch 8; iter: 0; batch classifier loss: nan; batch adversarial loss: nan\n",
      "epoch 9; iter: 0; batch classifier loss: nan; batch adversarial loss: nan\n",
      "epoch 0; iter: 0; batch classifier loss: 103.530869; batch adversarial loss: 0.607884\n",
      "epoch 1; iter: 0; batch classifier loss: nan; batch adversarial loss: nan\n",
      "epoch 2; iter: 0; batch classifier loss: nan; batch adversarial loss: nan\n",
      "epoch 3; iter: 0; batch classifier loss: nan; batch adversarial loss: nan\n",
      "epoch 4; iter: 0; batch classifier loss: nan; batch adversarial loss: nan\n",
      "epoch 5; iter: 0; batch classifier loss: nan; batch adversarial loss: nan\n",
      "epoch 6; iter: 0; batch classifier loss: nan; batch adversarial loss: nan\n",
      "epoch 7; iter: 0; batch classifier loss: nan; batch adversarial loss: nan\n",
      "epoch 8; iter: 0; batch classifier loss: nan; batch adversarial loss: nan\n",
      "epoch 9; iter: 0; batch classifier loss: nan; batch adversarial loss: nan\n"
     ]
    },
    {
     "name": "stderr",
     "output_type": "stream",
     "text": [
      "3it [00:06,  2.18s/it]"
     ]
    },
    {
     "name": "stdout",
     "output_type": "stream",
     "text": [
      "epoch 0; iter: 0; batch classifier loss: 138.670258; batch adversarial loss: 0.914715\n",
      "epoch 1; iter: 0; batch classifier loss: nan; batch adversarial loss: nan\n",
      "epoch 2; iter: 0; batch classifier loss: nan; batch adversarial loss: nan\n",
      "epoch 3; iter: 0; batch classifier loss: nan; batch adversarial loss: nan\n",
      "epoch 4; iter: 0; batch classifier loss: nan; batch adversarial loss: nan\n",
      "epoch 5; iter: 0; batch classifier loss: nan; batch adversarial loss: nan\n",
      "epoch 6; iter: 0; batch classifier loss: nan; batch adversarial loss: nan\n",
      "epoch 7; iter: 0; batch classifier loss: nan; batch adversarial loss: nan\n",
      "epoch 8; iter: 0; batch classifier loss: nan; batch adversarial loss: nan\n",
      "epoch 9; iter: 0; batch classifier loss: nan; batch adversarial loss: nan\n",
      "epoch 0; iter: 0; batch classifier loss: 136.964539; batch adversarial loss: 0.597468\n",
      "epoch 1; iter: 0; batch classifier loss: nan; batch adversarial loss: nan\n",
      "epoch 2; iter: 0; batch classifier loss: nan; batch adversarial loss: nan\n",
      "epoch 3; iter: 0; batch classifier loss: nan; batch adversarial loss: nan\n",
      "epoch 4; iter: 0; batch classifier loss: nan; batch adversarial loss: nan\n",
      "epoch 5; iter: 0; batch classifier loss: nan; batch adversarial loss: nan\n",
      "epoch 6; iter: 0; batch classifier loss: nan; batch adversarial loss: nan\n",
      "epoch 7; iter: 0; batch classifier loss: nan; batch adversarial loss: nan\n",
      "epoch 8; iter: 0; batch classifier loss: nan; batch adversarial loss: nan\n",
      "epoch 9; iter: 0; batch classifier loss: nan; batch adversarial loss: nan\n"
     ]
    },
    {
     "name": "stderr",
     "output_type": "stream",
     "text": [
      "4it [00:08,  2.22s/it]"
     ]
    },
    {
     "name": "stdout",
     "output_type": "stream",
     "text": [
      "epoch 0; iter: 0; batch classifier loss: 763.705322; batch adversarial loss: 0.646738\n",
      "epoch 1; iter: 0; batch classifier loss: 87.270958; batch adversarial loss: 0.682940\n",
      "epoch 2; iter: 0; batch classifier loss: nan; batch adversarial loss: nan\n",
      "epoch 3; iter: 0; batch classifier loss: nan; batch adversarial loss: nan\n",
      "epoch 4; iter: 0; batch classifier loss: nan; batch adversarial loss: nan\n",
      "epoch 5; iter: 0; batch classifier loss: nan; batch adversarial loss: nan\n",
      "epoch 6; iter: 0; batch classifier loss: nan; batch adversarial loss: nan\n",
      "epoch 7; iter: 0; batch classifier loss: nan; batch adversarial loss: nan\n",
      "epoch 8; iter: 0; batch classifier loss: nan; batch adversarial loss: nan\n",
      "epoch 9; iter: 0; batch classifier loss: nan; batch adversarial loss: nan\n",
      "epoch 0; iter: 0; batch classifier loss: 125.452286; batch adversarial loss: 0.666347\n",
      "epoch 1; iter: 0; batch classifier loss: nan; batch adversarial loss: nan\n",
      "epoch 2; iter: 0; batch classifier loss: nan; batch adversarial loss: nan\n",
      "epoch 3; iter: 0; batch classifier loss: nan; batch adversarial loss: nan\n",
      "epoch 4; iter: 0; batch classifier loss: nan; batch adversarial loss: nan\n",
      "epoch 5; iter: 0; batch classifier loss: nan; batch adversarial loss: nan\n",
      "epoch 6; iter: 0; batch classifier loss: nan; batch adversarial loss: nan\n",
      "epoch 7; iter: 0; batch classifier loss: nan; batch adversarial loss: nan\n",
      "epoch 8; iter: 0; batch classifier loss: nan; batch adversarial loss: nan\n",
      "epoch 9; iter: 0; batch classifier loss: nan; batch adversarial loss: nan\n"
     ]
    },
    {
     "name": "stderr",
     "output_type": "stream",
     "text": [
      "5it [00:11,  2.21s/it]\n"
     ]
    }
   ],
   "source": [
    "import tensorflow.compat.v1 as tf\n",
    "tf.disable_v2_behavior()\n",
    "from aif360.algorithms.inprocessing import AdversarialDebiasing\n",
    "from aif360.datasets import StandardDataset\n",
    "from sklearn.model_selection import StratifiedKFold\n",
    "from sklearn.metrics import accuracy_score\n",
    "import pandas as pd\n",
    "import numpy as np\n",
    "from tensorflow.keras.layers import Dense, Dropout, Input\n",
    "from tqdm import tqdm\n",
    "\n",
    "\n",
    "groups = [\n",
    "    {'Gender': 0},\n",
    "    {'Gender': 1},\n",
    "]\n",
    "priv_group = groups[0]\n",
    "unprivileged_groups = [groups[1]]\n",
    "sess = tf.Session()\n",
    "            # Convert to AIF360 format\n",
    "#aif360_dataset = StandardDataset(df=pd.concat([_X_test, _y_test], axis=1),\n",
    "                                        # label_name='Loan_Status', favorable_classes=[age_cls],\n",
    "                                        # protected_attribute_names=['Gender'],\n",
    "                                        # privileged_classes=[[priv_cls]])\n",
    "\n",
    "# CV and OOF Predictions\n",
    "#y_pred_4 = pd.DataFrame(0, columns=[0, 1], index=X.index)\n",
    "scores = []\n",
    "\n",
    "# Unique values of the target\n",
    "unique_targets = y.unique()\n",
    "\n",
    "for train_index, test_index in tqdm(StratifiedKFold(n_splits=5).split(X, y)):\n",
    "    X_train, X_test = X.iloc[train_index, :], X.iloc[test_index, :]\n",
    "    y_train, y_test = y.iloc[train_index], y.iloc[test_index]\n",
    "\n",
    "    for target_value in unique_targets:\n",
    "        tf.reset_default_graph()\n",
    "        sess = tf.Session()\n",
    "\n",
    "        # Convert the target to binary for the current class\n",
    "        y_train_binary = (y_train == target_value).astype(int)\n",
    "        y_test_binary = (y_test == target_value).astype(int)\n",
    "\n",
    "        # Convert to AIF360 format\n",
    "        aif360_train = StandardDataset(pd.concat([X_train, y_train_binary], axis=1),\n",
    "                                       label_name='Loan_Status', favorable_classes=[1],\n",
    "                                       protected_attribute_names=['Gender'],\n",
    "                                       privileged_classes=[[priv_group['Gender']]])\n",
    "\n",
    "        aif360_test = StandardDataset(pd.concat([X_test, y_test_binary], axis=1),\n",
    "                                      label_name='Loan_Status', favorable_classes=[1],\n",
    "                                      protected_attribute_names=['Gender'],\n",
    "                                      privileged_classes=[[priv_group['Gender']]])\n",
    "\n",
    "        # Initialize and train Adversarial Debiasing model\n",
    "        adv_model = AdversarialDebiasing(privileged_groups=[priv_group],\n",
    "                                         unprivileged_groups=unprivileged_groups,\n",
    "                                         scope_name='adv_debiasing',adversary_loss_weight=0.01,\n",
    "                                         sess=sess,\n",
    "                                         num_epochs=10, \n",
    "                                         batch_size=32)\n",
    "        \n",
    "\n",
    "        \n",
    "        aif360_dataset_train1 = adv_model.fit(aif360_train)\n",
    "        #adv_model.fit(aif360_test)         \n",
    "        #transformed_X_Train = transformed_X_Train.add(pd.DataFrame(aif360_dataset_train.features, columns=X.columns), fill_value=0)\n",
    "        #transformed_X_Train = transformed_X_Train.add(pd.DataFrame(aif360_dataset_train1.features, columns=X.columns), fill_value=0) \n",
    "\n",
    "\n",
    "        model_DIR1 = RandomForestClassifier(n_estimators=100, random_state=42)\n",
    "        model_DIR1.fit(X,y)\n",
    "#aif360_dataset_train.astype('float32'), y.astype('float32')\n",
    "    #y_pred_4 = adv_model.predict(X).labels\n",
    "        \n",
    "        \n",
    "#sess.close()            \n",
    "            \n",
    "     #Make predictions and evaluate\n",
    "     #   preds = adv_model.predict(X_test).labels\n",
    "    #    y_pred_4.loc[test_index, target_value] = preds[:, 0]\n",
    "    #    scores.append(accuracy_score(X.values, preds[:, 0]))\n",
    "\n",
    "         #Close TensorFlow session\n",
    "        sess.close()\n",
    "\n",
    "#accuracy_score(y,np.argmax(y_pred_4.values,axis=1))      \n"
   ]
  },
  {
   "cell_type": "code",
   "execution_count": null,
   "metadata": {},
   "outputs": [],
   "source": []
  },
  {
   "cell_type": "code",
   "execution_count": 28,
   "metadata": {},
   "outputs": [
    {
     "name": "stdout",
     "output_type": "stream",
     "text": [
      "Gender Bias Identification:\n",
      "Max Statistical Parity Difference (Ideal value = 0): 0.05042016806722688\n",
      "Max Average Odds Difference (Ideal value = 0): 0.017378464334393467\n",
      "Max Equal Opportunity Difference (Ideal value = 0): 0.11770623742454722\n",
      "Max Theil Index (Ideal value = 0): 0.33245636565819003\n",
      "Max Generalized Entropy Index (Ideal value = 0): 0.23939508506616264\n"
     ]
    }
   ],
   "source": [
    "# Initialize variables to store maximum values of each metric\n",
    "max_spd = max_aod = max_eod = max_theil = max_gei = max_di = -np.inf\n",
    "_X_test = pd.DataFrame(X_test, columns=X.columns)\n",
    "_y_test = pd.DataFrame(y_test, columns=['Loan_Status'])\n",
    "\n",
    "\n",
    "for age_cls in [0,1]:\n",
    "    for priv_cls in [0,1]:\n",
    "        # Convert to AIF360 format\n",
    "        aif360_dataset = StandardDataset(df=pd.concat([_X_test, _y_test], axis=1),\n",
    "                                         label_name='Loan_Status', favorable_classes=[age_cls],\n",
    "                                         protected_attribute_names=['Gender'],\n",
    "                                         privileged_classes=[[priv_cls]])\n",
    "\n",
    "        # Create a dataset for the predictions\n",
    "        aif360_pred_dataset2 = aif360_dataset.copy()\n",
    "        aif360_pred_dataset2.labels =y_pred_DIR\n",
    "        #\n",
    "#np.argmax(y_pred_4.values,axis=1)\n",
    "\n",
    "\n",
    "        # Define the groups\n",
    "        groups = [\n",
    "            {'Gender': 0},\n",
    "            {'Gender': 1}\n",
    "        ]\n",
    "\n",
    "#aif360_pred_dataset.labels = \n",
    "\n",
    "        # Iterate through the groups\n",
    "        for i, privileged_group in enumerate(groups):\n",
    "            # Define unprivileged groups as all other groups\n",
    "            unprivileged_groups = groups[:i] + groups[i+1:]\n",
    "\n",
    "            # Calculate metrics\n",
    "            metric = ClassificationMetric(aif360_dataset, aif360_pred_dataset2,\n",
    "                                          unprivileged_groups=unprivileged_groups,\n",
    "                                          privileged_groups=[privileged_group])\n",
    "\n",
    "            # Update maximum values\n",
    "            max_spd = max(max_spd, metric.statistical_parity_difference())\n",
    "            max_aod = max(max_aod, metric.average_odds_difference())\n",
    "            max_eod = max(max_eod, metric.equal_opportunity_difference())\n",
    "            max_theil = max(max_theil, metric.theil_index())\n",
    "            max_gei = max(max_gei, metric.generalized_entropy_index())\n",
    "            #max_di = max(max_di, metric.disparate_impact())\n",
    "\n",
    "# Print maximum values\n",
    "print(\"Gender Bias Identification:\")\n",
    "print(\"Max Statistical Parity Difference (Ideal value = 0):\", max_spd)\n",
    "print(\"Max Average Odds Difference (Ideal value = 0):\", max_aod)\n",
    "print(\"Max Equal Opportunity Difference (Ideal value = 0):\", max_eod)\n",
    "print(\"Max Theil Index (Ideal value = 0):\", max_theil)\n",
    "print(\"Max Generalized Entropy Index (Ideal value = 0):\", max_gei)\n",
    "#print(\"Max Disparate Impact (Ideal value = 1):\", max_di)"
   ]
  },
  {
   "cell_type": "markdown",
   "metadata": {},
   "source": [
    "# 2 - PrejudiceRemover"
   ]
  },
  {
   "cell_type": "code",
   "execution_count": 22,
   "metadata": {},
   "outputs": [
    {
     "name": "stderr",
     "output_type": "stream",
     "text": [
      "Traceback (most recent call last):\n",
      "  File \"/Users/macbook/anaconda3/lib/python3.11/site-packages/aif360/algorithms/inprocessing/kamfadm-2012ecmlpkdd/train_pr.py\", line 319, in <module>\n",
      "    main(opt)\n",
      "  File \"/Users/macbook/anaconda3/lib/python3.11/site-packages/aif360/algorithms/inprocessing/kamfadm-2012ecmlpkdd/train_pr.py\", line 166, in main\n",
      "    clr = train(X, y, ns, opt)\n",
      "          ^^^^^^^^^^^^^^^^^^^^\n",
      "  File \"/Users/macbook/anaconda3/lib/python3.11/site-packages/aif360/algorithms/inprocessing/kamfadm-2012ecmlpkdd/train_pr.py\", line 128, in train\n",
      "    clr.fit(X, y, ns, itype=opt.itype)\n",
      "  File \"/Users/macbook/anaconda3/lib/python3.11/site-packages/aif360/algorithms/inprocessing/kamfadm-2012ecmlpkdd/fadm/lr/pr.py\", line 279, in fit\n",
      "    self.c_s_ = np.array([np.sum(s == si).astype(np.float)\n",
      "                         ^^^^^^^^^^^^^^^^^^^^^^^^^^^^^^^^^\n",
      "  File \"/Users/macbook/anaconda3/lib/python3.11/site-packages/aif360/algorithms/inprocessing/kamfadm-2012ecmlpkdd/fadm/lr/pr.py\", line 279, in <listcomp>\n",
      "    self.c_s_ = np.array([np.sum(s == si).astype(np.float)\n",
      "                                                 ^^^^^^^^\n",
      "  File \"/Users/macbook/anaconda3/lib/python3.11/site-packages/numpy/__init__.py\", line 305, in __getattr__\n",
      "    raise AttributeError(__former_attrs__[attr])\n",
      "AttributeError: module 'numpy' has no attribute 'float'.\n",
      "`np.float` was a deprecated alias for the builtin `float`. To avoid this error in existing code, use `float` by itself. Doing this will not modify any behavior and is safe. If you specifically wanted the numpy scalar type, use `np.float64` here.\n",
      "The aliases was originally deprecated in NumPy 1.20; for more details and guidance see the original release note at:\n",
      "    https://numpy.org/devdocs/release/1.20.0-notes.html#deprecations. Did you mean: 'cfloat'?\n"
     ]
    }
   ],
   "source": [
    "  \n",
    "_X_test = pd.DataFrame(X_test, columns=X.columns)\n",
    "_y_test = pd.DataFrame(y_test, columns=['Loan_Status'])\n",
    " \n",
    "from aif360.algorithms.inprocessing import PrejudiceRemover\n",
    "transformed_X_Train = pd.DataFrame(index=X.index, columns=X_train.columns)\n",
    "\n",
    "groups = [\n",
    "    {'Gender': 0},\n",
    "    {'Gender': 1},\n",
    "                  ]\n",
    "priv_group = groups[0]\n",
    "unprivileged_groups = [groups[1]]\n",
    "aif360_dataset = StandardDataset(df,\n",
    "                                         label_name='Loan_Status', favorable_classes=[age_cls],\n",
    "                                         protected_attribute_names=['Gender'],\n",
    "                                         privileged_classes=[[priv_cls]])\n",
    "\n",
    "remover = PrejudiceRemover()\n",
    "train_data_debiased = remover.fit(aif360_dataset)\n",
    "\n"
   ]
  },
  {
   "cell_type": "code",
   "execution_count": 24,
   "metadata": {},
   "outputs": [
    {
     "name": "stdout",
     "output_type": "stream",
     "text": [
      "Gender Bias Identification:\n",
      "Max Statistical Parity Difference (Ideal value = 0): 0.2011701170117012\n",
      "Max Average Odds Difference (Ideal value = 0): 0.10551948051948051\n",
      "Max Equal Opportunity Difference (Ideal value = 0): 0.25\n",
      "Max Theil Index (Ideal value = 0): 0.0593499716183689\n",
      "Max Generalized Entropy Index (Ideal value = 0): 0.03812500000000017\n"
     ]
    }
   ],
   "source": [
    "# Initialize variables to store maximum values of each metric\n",
    "max_spd = max_aod = max_eod = max_theil = max_gei = max_di = -np.inf\n",
    "_X_test = pd.DataFrame(X_test, columns=X.columns)\n",
    "_y_test = pd.DataFrame(y_test, columns=['Loan_Status'])\n",
    "\n",
    "\n",
    "for age_cls in [0,1]:\n",
    "    for priv_cls in [0,1]:\n",
    "        # Convert to AIF360 format\n",
    "        aif360_dataset = StandardDataset(df=pd.concat([_X_test, _y_test], axis=1),\n",
    "                                         label_name='Loan_Status', favorable_classes=[age_cls],\n",
    "                                         protected_attribute_names=['Gender'],\n",
    "                                         privileged_classes=[[priv_cls]])\n",
    "\n",
    "        # Create a dataset for the predictions\n",
    "        aif360_pred_dataset2 = aif360_dataset.copy()\n",
    "        aif360_pred_dataset2.labels = y_pred_8  \n",
    "        #\n",
    "#np.argmax(y_pred_4.values,axis=1)\n",
    "\n",
    "\n",
    "        # Define the groups\n",
    "        groups = [\n",
    "            {'Gender': 0},\n",
    "            {'Gender': 1}\n",
    "        ]\n",
    "\n",
    "#aif360_pred_dataset.labels = \n",
    "\n",
    "        # Iterate through the groups\n",
    "        for i, privileged_group in enumerate(groups):\n",
    "            # Define unprivileged groups as all other groups\n",
    "            unprivileged_groups = groups[:i] + groups[i+1:]\n",
    "\n",
    "            # Calculate metrics\n",
    "            metric = ClassificationMetric(aif360_dataset, aif360_pred_dataset2,\n",
    "                                          unprivileged_groups=unprivileged_groups,\n",
    "                                          privileged_groups=[privileged_group])\n",
    "\n",
    "            # Update maximum values\n",
    "            max_spd = max(max_spd, metric.statistical_parity_difference())\n",
    "            max_aod = max(max_aod, metric.average_odds_difference())\n",
    "            max_eod = max(max_eod, metric.equal_opportunity_difference())\n",
    "            max_theil = max(max_theil, metric.theil_index())\n",
    "            max_gei = max(max_gei, metric.generalized_entropy_index())\n",
    "            #max_di = max(max_di, metric.disparate_impact())\n",
    "\n",
    "# Print maximum values\n",
    "print(\"Gender Bias Identification:\")\n",
    "print(\"Max Statistical Parity Difference (Ideal value = 0):\", max_spd)\n",
    "print(\"Max Average Odds Difference (Ideal value = 0):\", max_aod)\n",
    "print(\"Max Equal Opportunity Difference (Ideal value = 0):\", max_eod)\n",
    "print(\"Max Theil Index (Ideal value = 0):\", max_theil)\n",
    "print(\"Max Generalized Entropy Index (Ideal value = 0):\", max_gei)\n",
    "#print(\"Max Disparate Impact (Ideal value = 1):\", max_di)"
   ]
  },
  {
   "cell_type": "markdown",
   "metadata": {},
   "source": [
    "# Postprocessing Algorithms:"
   ]
  },
  {
   "cell_type": "markdown",
   "metadata": {},
   "source": [
    "## 1- Equalized Odds Postprocessing"
   ]
  },
  {
   "cell_type": "code",
   "execution_count": 36,
   "metadata": {},
   "outputs": [
    {
     "name": "stderr",
     "output_type": "stream",
     "text": [
      "5it [00:00, 40.53it/s]\n",
      "5it [00:00, 55.12it/s]\n",
      "5it [00:00, 57.87it/s]\n",
      "5it [00:00, 57.31it/s]"
     ]
    },
    {
     "name": "stdout",
     "output_type": "stream",
     "text": [
      "Overall Accuracy: 0.3127035830618892\n"
     ]
    },
    {
     "name": "stderr",
     "output_type": "stream",
     "text": [
      "\n"
     ]
    }
   ],
   "source": [
    "from tensorflow.keras.layers import Dense, Dropout, Input\n",
    "from tensorflow.keras.models import Model\n",
    "from tensorflow.keras.optimizers import Adam\n",
    "from aif360.algorithms.postprocessing import EqOddsPostprocessing,CalibratedEqOddsPostprocessing\n",
    "from aif360.datasets import StandardDataset\n",
    "from sklearn.model_selection import StratifiedKFold\n",
    "from sklearn.metrics import accuracy_score\n",
    "import pandas as pd\n",
    "import numpy as np\n",
    "from tqdm import tqdm\n",
    "import tensorflow.keras.backend as K\n",
    "\n",
    "\n",
    "\n",
    "privileged_groups = [{'Gender': 1}]\n",
    "unprivileged_groups = [{'Gender': 0}]\n",
    "\n",
    "n_classes = 4  # Number of classes\n",
    "scores = []\n",
    "y_pred_all_classes = np.zeros((len(y), n_classes))\n",
    "\n",
    "for class_index in range(n_classes):\n",
    "    for train_index, test_index in tqdm(StratifiedKFold(n_splits=5).split(X, y)):\n",
    "        X_train, X_test = X.iloc[train_index, :], X.iloc[test_index, :]\n",
    "        y_train, y_test = y.iloc[train_index], y.iloc[test_index]\n",
    "   \n",
    "\n",
    "        # Convert the target to binary for the current class\n",
    "        y_train_binary = (y_train == target_value).astype(int)\n",
    "        y_test_binary = (y_test == target_value).astype(int)\n",
    "\n",
    "        \n",
    "  \n",
    "\n",
    "        # Predict using the standard model\n",
    "        #standard_preds = dense_model.predict(X_Test).flatten()  # Flatten for binary output\n",
    "\n",
    "        # Convert to AIF360 format for postprocessing\n",
    "        aif360_test = StandardDataset(pd.concat([X_test[['Gender']], pd.DataFrame(y_test_binary, columns=['Loan_Status'], index=X_test.index)], axis=1),\n",
    "                                      label_name='Loan_Status', favorable_classes=[1],\n",
    "                                      protected_attribute_names=['Gender'],\n",
    "                                      privileged_classes=[[1]])\n",
    "        aif360_preds = StandardDataset(pd.concat([X_test[['Gender']],pd.DataFrame(y_test, columns=['Loan_Status'], index=X_test.index)], axis=1),\n",
    "                                       label_name='Loan_Status', favorable_classes=[1],\n",
    "                                       protected_attribute_names=['Gender'],\n",
    "                                       privileged_classes=[[1]])\n",
    "\n",
    "        # Apply Equalized Odds Postprocessing\n",
    "        eq_odds = CalibratedEqOddsPostprocessing(unprivileged_groups=unprivileged_groups, privileged_groups=privileged_groups, seed=42)\n",
    "        eq_odds = eq_odds.fit(aif360_test, aif360_preds)\n",
    "        transformed_preds = eq_odds.predict(aif360_preds).labels\n",
    "\n",
    "        # Store the predictions for the current class\n",
    "        y_pred_all_classes[test_index, class_index] = transformed_preds.squeeze()\n",
    "\n",
    "# Convert the predictions for each class into final multi-class predictions\n",
    "y_pred_final = np.argmax(y_pred_all_classes, axis=1)\n",
    "overall_accuracy = accuracy_score(y, y_pred_final)\n",
    "\n",
    "print(\"Overall Accuracy:\", overall_accuracy)\n"
   ]
  },
  {
   "cell_type": "code",
   "execution_count": 35,
   "metadata": {},
   "outputs": [],
   "source": [
    "\n"
   ]
  },
  {
   "cell_type": "code",
   "execution_count": 37,
   "metadata": {},
   "outputs": [
    {
     "name": "stdout",
     "output_type": "stream",
     "text": [
      "Gender Bias Identification:\n",
      "Max Statistical Parity Difference (Ideal value = 0): 0.0\n",
      "Max Average Odds Difference (Ideal value = 0): 0.0\n",
      "Max Equal Opportunity Difference (Ideal value = 0): 0.0\n",
      "Max Theil Index (Ideal value = 0): 1.162499556119361\n",
      "Max Generalized Entropy Index (Ideal value = 0): 1.0989583333333337\n"
     ]
    }
   ],
   "source": [
    "import pandas as pd\n",
    "import numpy as np\n",
    "\n",
    "\n",
    "# Initialize variables to store maximum values of each metric\n",
    "max_spd = max_aod = max_eod = max_theil = max_gei = max_di = -np.inf\n",
    "\n",
    "for age_cls in [0,1]:\n",
    "    for priv_cls in [0,1]:\n",
    "        # Convert to AIF360 format\n",
    "        aif360_dataset = StandardDataset(df=pd.concat([X, y], axis=1),\n",
    "                                         label_name='Loan_Status', favorable_classes=[age_cls],\n",
    "                                         protected_attribute_names=['Gender'],\n",
    "                                         privileged_classes=[[priv_cls]])\n",
    "\n",
    "        # Create a dataset for the predictions\n",
    "        aif360_pred_dataset = aif360_dataset.copy()\n",
    "        aif360_pred_dataset.labels = y_pred_final\n",
    "\n",
    "        import numpy as np\n",
    "\n",
    "        # Define the groups\n",
    "        groups = [\n",
    "            {'Gender': 0},\n",
    "            {'Gender': 1}\n",
    "        ]\n",
    "\n",
    "\n",
    "\n",
    "        # Iterate through the groups\n",
    "        for i, privileged_group in enumerate(groups):\n",
    "            # Define unprivileged groups as all other groups\n",
    "            unprivileged_groups = groups[:i] + groups[i+1:]\n",
    "\n",
    "            # Calculate metrics\n",
    "            metric = ClassificationMetric(aif360_dataset, aif360_pred_dataset,\n",
    "                                          unprivileged_groups=unprivileged_groups,\n",
    "                                          privileged_groups=[privileged_group])\n",
    "\n",
    "            # Update maximum values\n",
    "            max_spd = max(max_spd, metric.statistical_parity_difference())\n",
    "            max_aod = max(max_aod, metric.average_odds_difference())\n",
    "            max_eod = max(max_eod, metric.equal_opportunity_difference())\n",
    "            max_theil = max(max_theil, metric.theil_index())\n",
    "            max_gei = max(max_gei, metric.generalized_entropy_index())\n",
    "\n",
    "# Print maximum values\n",
    "print(\"Gender Bias Identification:\")\n",
    "print(\"Max Statistical Parity Difference (Ideal value = 0):\", max_spd)\n",
    "print(\"Max Average Odds Difference (Ideal value = 0):\", max_aod)\n",
    "print(\"Max Equal Opportunity Difference (Ideal value = 0):\", max_eod)\n",
    "print(\"Max Theil Index (Ideal value = 0):\", max_theil)\n",
    "print(\"Max Generalized Entropy Index (Ideal value = 0):\", max_gei)"
   ]
  },
  {
   "cell_type": "markdown",
   "metadata": {},
   "source": [
    "## 2- Reject Option Classification"
   ]
  },
  {
   "cell_type": "code",
   "execution_count": null,
   "metadata": {},
   "outputs": [],
   "source": [
    "#from aif360.algorithms.postprocessing import RejectOptionClassification\n",
    "\n",
    "\n",
    "#privileged_groups = [{'Gender': 1}]\n",
    "#unprivileged_groups = [{'Gender': 0}]\n",
    "\n",
    "#n_classes = 1  # Number of classes\n",
    "#scores = []\n",
    "#y_pred_all_classes = np.zeros((len(y), n_classes))\n",
    "\n",
    "#for class_index in [0,1]:\n",
    " #   for train_index, test_index in tqdm(StratifiedKFold(n_splits=5).split(X, y)):\n",
    "  #      X_train, X_test = X.iloc[train_index, :], X.iloc[test_index, :]\n",
    "   #     y_train, y_test = y.iloc[train_index], y.iloc[test_index]\n",
    "   \n",
    "\n",
    "        # Convert the target to binary for the current class\n",
    "    #    y_train_binary = (y_train == target_value).astype(int)\n",
    "     #   y_test_binary = (y_test == target_value).astype(int)\n",
    "\n",
    "\n",
    "        ## Initialize and train the model\n",
    "       # #dense_model = create_model()\n",
    "       ## dense_model.compile(optimizer=Adam(), loss='binary_crossentropy', metrics=['accuracy'])  # Use binary_crossentropy\n",
    "       ## dense_model.fit(X_Train, y_Train_binary, epochs=25, batch_size=64, verbose=0)\n",
    "\n",
    "        ## Predict using the standard model\n",
    "        ##standard_preds = dense_model.predict(X_Test).flatten()  # Flatten for binary output\n",
    "\n",
    "        # Convert to AIF360 format for postprocessing\n",
    "      #  aif360_test = StandardDataset(pd.concat([X_test[['Gender']], pd.DataFrame(y_test_binary, columns=['Loan_Status'],index=X_test.index)], axis=1),\n",
    "       #                               label_name='Loan_Status', favorable_classes=[1],\n",
    "        #                              protected_attribute_names=['Gender'],\n",
    "         #                             privileged_classes=[[1]])\n",
    "        #aif360_preds = StandardDataset(pd.concat([X_test[['Gender']],pd.DataFrame(y_test_binary, columns=['Loan_Status'], index=X_test.index)], axis=1),\n",
    "         #                              label_name='Loan_Status', favorable_classes=[1],\n",
    "          #                             protected_attribute_names=['Gender'],\n",
    "           #                            privileged_classes=[[1]])\n",
    "\n",
    "        # Apply Reject Option Classification\n",
    "        #roc = RejectOptionClassification(unprivileged_groups=[{'Gender': 0}],\n",
    "         #                                privileged_groups=[{'Gender': 1}],\n",
    "          #                               low_class_thresh=0.01, high_class_thresh=0.99,\n",
    "           #                              num_class_thresh=100, num_ROC_margin=50,\n",
    "            #                             metric_name=\"Statistical parity difference\",\n",
    "             #                            metric_ub=0.05, metric_lb=-0.05)\n",
    "        \n",
    "        \n",
    "        \n",
    "        \n",
    "\n",
    "        #roc = roc.fit(aif360_test, aif360_preds)\n",
    "        #transformed_preds = roc.predict(aif360_test).labels\n",
    "\n",
    "\n",
    "        # Store the predictions for the current class\n",
    "       # y_pred_all_classes[test_index, class_index] = transformed_preds#.squeeze()\n",
    "\n",
    "# Convert the predictions for each class into final multi-class predictions\n",
    "#y_pred_final1 = np.argmax(y_pred_all_classes, axis=1)\n",
    "#overall_accuracy = accuracy_score(y, y_pred_final1)\n",
    "\n",
    "#print(\"Overall Accuracy:\", overall_accuracy)\n"
   ]
  },
  {
   "cell_type": "markdown",
   "metadata": {},
   "source": [
    "# 3- Calibrated EqOdds Postprocessing"
   ]
  },
  {
   "cell_type": "code",
   "execution_count": 39,
   "metadata": {},
   "outputs": [
    {
     "name": "stderr",
     "output_type": "stream",
     "text": [
      "5it [00:00, 73.51it/s]\n",
      "5it [00:00, 62.15it/s]\n",
      "5it [00:00, 65.58it/s]\n",
      "5it [00:00, 64.89it/s]\n"
     ]
    }
   ],
   "source": [
    "from tensorflow.keras.layers import Dense, Dropout, Input\n",
    "from tensorflow.keras.models import Model\n",
    "from tensorflow.keras.optimizers import Adam\n",
    "from aif360.algorithms.postprocessing import EqOddsPostprocessing,CalibratedEqOddsPostprocessing\n",
    "from aif360.datasets import StandardDataset\n",
    "from sklearn.model_selection import StratifiedKFold\n",
    "from sklearn.metrics import accuracy_score\n",
    "import pandas as pd\n",
    "import numpy as np\n",
    "from tqdm import tqdm\n",
    "import tensorflow.keras.backend as K\n",
    "\n",
    "###############################\n",
    "_X_test = pd.DataFrame(X_test, columns=X.columns)\n",
    "_y_test = pd.DataFrame(y_test, columns=['Loan_Status'])\n",
    " \n",
    "\n",
    "transformed_X_Train = pd.DataFrame(index=X_train.index, columns=X_train.columns)\n",
    "\n",
    "groups = [\n",
    "    {'Gender': 0},\n",
    "    {'Gender': 1},\n",
    "                  ]\n",
    "priv_group = groups[0]\n",
    "unprivileged_groups = [groups[1]]\n",
    "aif360_dataset = StandardDataset(df,\n",
    "                                         label_name='Loan_Status', favorable_classes=[age_cls],\n",
    "                                         protected_attribute_names=['Gender'],\n",
    "                                         privileged_classes=[[priv_cls]])\n",
    "\n",
    "   \n",
    "DIR = DisparateImpactRemover(repair_level=1.0, sensitive_attribute=\"Gender\")\n",
    "aif360_dataset_train = DIR.fit_transform(aif360_dataset)         \n",
    "transformed_X_Train = transformed_X_Train.add(pd.DataFrame(aif360_dataset_train.features, columns=X.columns), fill_value=0)\n",
    "            \n",
    "\n",
    "\n",
    "model_DIR = RandomForestClassifier(n_estimators=100, random_state=42)\n",
    "model_DIR.fit(transformed_X_Train.astype('float32'), y.astype('float32'))\n",
    "\n",
    "#aif360_dataset_train.features  aif360_dataset_train.labels.ravel() \n",
    "\n",
    "\n",
    "\n",
    "#################################\n",
    "\n",
    "privileged_groups = [{'Gender': 1}]\n",
    "unprivileged_groups = [{'Gender': 0}]\n",
    "\n",
    "n_classes = 4  # Number of classes\n",
    "scores = []\n",
    "y_pred_all_classes = np.zeros((len(y), n_classes))\n",
    "\n",
    "for class_index in range(n_classes):\n",
    "    for train_index, test_index in tqdm(StratifiedKFold(n_splits=5).split(X, y)):\n",
    "        X_train, X_test = X.iloc[train_index, :], X.iloc[test_index, :]\n",
    "        y_train, y_test = y.iloc[train_index], y.iloc[test_index]\n",
    "   \n",
    "\n",
    "        # Convert the target to binary for the current class\n",
    "        y_train_binary = (y_train == target_value).astype(int)\n",
    "        y_test_binary = (y_test == target_value).astype(int)\n",
    "\n",
    "        \n",
    "  \n",
    "\n",
    "        # Predict using the standard model\n",
    "        #standard_preds = dense_model.predict(X_Test).flatten()  # Flatten for binary output\n",
    "\n",
    "        # Convert to AIF360 format for postprocessing\n",
    "        aif360_test = StandardDataset(pd.concat([X_test[['Gender']], pd.DataFrame(y_test_binary, columns=['Loan_Status'], index=X_test.index)], axis=1),\n",
    "                                      label_name='Loan_Status', favorable_classes=[1],\n",
    "                                      protected_attribute_names=['Gender'],\n",
    "                                      privileged_classes=[[1]])\n",
    "        aif360_preds = StandardDataset(pd.concat([X_test[['Gender']],pd.DataFrame(y_test, columns=['Loan_Status'], index=X_test.index)], axis=1),\n",
    "                                       label_name='Loan_Status', favorable_classes=[1],\n",
    "                                       protected_attribute_names=['Gender'],\n",
    "                                       privileged_classes=[[1]])\n",
    "        \n",
    "        \n",
    "        calibrated_eq_odds = CalibratedEqOddsPostprocessing(unprivileged_groups=[{'Gender': 0}], privileged_groups=[{'Gender': 1}])\n",
    "calibrated_eq_odds.fit(aif360_test, aif360_preds)\n",
    "\n",
    "# Obtain the updated predictions\n",
    "predictions_calibrated_eq_odds = calibrated_eq_odds.predict(aif360_test, threshold=0.5)\n",
    "        #CEOP = CEOP.fit(aif360_test, aif360_preds)\n",
    "        #transformed_preds = CEOP.predict(aif360_test).labels\n",
    "        \n",
    "        #CEOP = CEOP.fit(aif360_test, aif360_preds)\n",
    "        #transformed_preds = CEOP.predict(aif360_test, threshold=0.5).labels\n",
    "\n",
    "        # Store the predictions for the current class\n",
    "        #y_pred_all_classes[test_index, class_index] = transformed_preds.squeeze()\n",
    "\n",
    "# Convert the predictions for each class into final multi-class predictions\n",
    "#y_pred_final1 = np.argmax(y_pred_all_classes, axis=1)\n",
    "#overall_accuracy = accuracy_score(y, y_pred_final1)\n",
    "#y_pred_all_classes[test_index, class_index] = predictions_calibrated_eq_odds.squeeze()\n",
    "\n",
    "# Convert the predictions for each class into final multi-class predictions\n",
    "#y_pred_final5 = predictions_calibrated_eq_odds.fit(X_test)\n",
    "#overall_accuracy = accuracy_score(y, y_pred_final5)\n",
    "#print(\"Overall Accuracy:\", overall_accuracy)\n"
   ]
  },
  {
   "cell_type": "code",
   "execution_count": null,
   "metadata": {},
   "outputs": [],
   "source": []
  },
  {
   "cell_type": "code",
   "execution_count": null,
   "metadata": {
    "scrolled": true
   },
   "outputs": [],
   "source": [
    "import pandas as pd\n",
    "import numpy as np\n",
    "\n",
    "\n",
    "# Initialize variables to store maximum values of each metric\n",
    "max_spd = max_aod = max_eod = max_theil = max_gei = max_di = -np.inf\n",
    "\n",
    "for age_cls in [0,1]:\n",
    "    for priv_cls in [0,1]:\n",
    "        # Convert to AIF360 format\n",
    "        aif360_dataset = StandardDataset(df=pd.concat([_X_test, _y_test], axis=1),\n",
    "                                         label_name='Loan_Status', favorable_classes=[age_cls],\n",
    "                                         protected_attribute_names=['Gender'],\n",
    "                                         privileged_classes=[[priv_cls]])\n",
    "\n",
    "        # Create a dataset for the predictions\n",
    "        aif360_pred_dataset = aif360_dataset.copy()\n",
    "        aif360_pred_dataset.labels = y_pred  \n",
    "        import numpy as np\n",
    "\n",
    "        # Define the groups\n",
    "        groups = [\n",
    "            {'Gender': 0},\n",
    "            {'Gender': 1}\n",
    "        ]\n",
    "\n",
    "\n",
    "\n",
    "        # Iterate through the groups\n",
    "        for i, privileged_group in enumerate(groups):\n",
    "            # Define unprivileged groups as all other groups\n",
    "            unprivileged_groups = groups[:i] + groups[i+1:]\n",
    "\n",
    "            # Calculate metrics\n",
    "            metric = ClassificationMetric(aif360_dataset, aif360_pred_dataset,\n",
    "                                          unprivileged_groups=unprivileged_groups,\n",
    "                                          privileged_groups=[privileged_group])\n",
    "\n",
    "            # Update maximum values\n",
    "            max_spd = max(max_spd, metric.statistical_parity_difference())\n",
    "            max_aod = max(max_aod, metric.average_odds_difference())\n",
    "            max_eod = max(max_eod, metric.equal_opportunity_difference())\n",
    "            max_theil = max(max_theil, metric.theil_index())\n",
    "            max_gei = max(max_gei, metric.generalized_entropy_index())\n",
    "\n",
    "# Print maximum values\n",
    "print(\"Gender Bias Identification:\")\n",
    "print(\"Max Statistical Parity Difference (Ideal value = 0):\", max_spd)\n",
    "print(\"Max Average Odds Difference (Ideal value = 0):\", max_aod)\n",
    "print(\"Max Equal Opportunity Difference (Ideal value = 0):\", max_eod)\n",
    "print(\"Max Theil Index (Ideal value = 0):\", max_theil)\n",
    "print(\"Max Generalized Entropy Index (Ideal value = 0):\", max_gei)"
   ]
  },
  {
   "cell_type": "code",
   "execution_count": null,
   "metadata": {},
   "outputs": [],
   "source": []
  }
 ],
 "metadata": {
  "kernelspec": {
   "display_name": "Python 3 (ipykernel)",
   "language": "python",
   "name": "python3"
  },
  "language_info": {
   "codemirror_mode": {
    "name": "ipython",
    "version": 3
   },
   "file_extension": ".py",
   "mimetype": "text/x-python",
   "name": "python",
   "nbconvert_exporter": "python",
   "pygments_lexer": "ipython3",
   "version": "3.9.18"
  }
 },
 "nbformat": 4,
 "nbformat_minor": 1
}
