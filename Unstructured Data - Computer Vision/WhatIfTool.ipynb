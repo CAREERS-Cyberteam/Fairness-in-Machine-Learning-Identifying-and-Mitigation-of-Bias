{
 "cells": [
  {
   "cell_type": "code",
   "execution_count": null,
   "id": "44e74f35",
   "metadata": {
    "scrolled": true
   },
   "outputs": [],
   "source": [
    "!pip install witwidget"
   ]
  },
  {
   "cell_type": "code",
   "execution_count": null,
   "id": "35f3a5d3",
   "metadata": {},
   "outputs": [],
   "source": [
    "import pandas as pd\n",
    "X = pd.read_csv('X.csv')\n",
    "y = pd.read_csv('y.csv').values\n",
    "y_preds = pd.read_csv('y_pred.csv').values"
   ]
  },
  {
   "cell_type": "code",
   "execution_count": null,
   "id": "845b5f6c",
   "metadata": {},
   "outputs": [],
   "source": [
    "from witwidget.notebook.visualization import WitConfigBuilder, WitWidget\n",
    "import numpy as np\n",
    "\n",
    "# Define a custom prediction function that the What-If Tool can use\n",
    "def custom_predict_fn(examples):\n",
    "    # Convert examples to the format your model expects\n",
    "    # For sklearn, it typically expects a 2D array\n",
    "    input_data = [example[:-1] for example in examples]\n",
    "    predictions = y_preds  # For classification models\n",
    "    return predictions\n",
    "\n",
    "# Prepare the examples (make sure they are in the correct format)\n",
    "test_examples = np.hstack((X, y.reshape(-1,1))).tolist()\n",
    "\n",
    "# Setup the What-If Tool configuration to use the custom prediction function\n",
    "config_builder = WitConfigBuilder(test_examples).set_custom_predict_fn(custom_predict_fn)\n",
    "\n",
    "# Display the What-If Tool\n",
    "WitWidget(config_builder)"
   ]
  }
 ],
 "metadata": {
  "kernelspec": {
   "display_name": "Python 3 (ipykernel)",
   "language": "python",
   "name": "python3"
  },
  "language_info": {
   "codemirror_mode": {
    "name": "ipython",
    "version": 3
   },
   "file_extension": ".py",
   "mimetype": "text/x-python",
   "name": "python",
   "nbconvert_exporter": "python",
   "pygments_lexer": "ipython3",
   "version": "3.9.18"
  }
 },
 "nbformat": 4,
 "nbformat_minor": 5
}
